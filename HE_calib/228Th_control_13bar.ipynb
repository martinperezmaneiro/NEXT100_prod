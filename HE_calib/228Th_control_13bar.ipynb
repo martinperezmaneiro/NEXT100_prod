{
 "cells": [
  {
   "cell_type": "code",
   "execution_count": 32,
   "metadata": {},
   "outputs": [],
   "source": [
    "import pandas as pd\n",
    "import tables as tb\n",
    "import glob\n",
    "import numpy as np\n",
    "from invisible_cities.io.dst_io import load_dst\n",
    "import matplotlib.pyplot as plt"
   ]
  },
  {
   "cell_type": "code",
   "execution_count": 33,
   "metadata": {},
   "outputs": [],
   "source": [
    "path = '/mnt/lustre/scratch/nlsas/home/usc/ie/mpm/NEXT100/data/228Th/refactor_prod/prod/{city}/*'"
   ]
  },
  {
   "cell_type": "code",
   "execution_count": 34,
   "metadata": {},
   "outputs": [],
   "source": [
    "# NUMBER OF SIMULATED EVENTS\n",
    "nevent_per_file = 20000\n",
    "nfiles_per_port = 200\n",
    "nevents_per_port = nevent_per_file * nfiles_per_port\n",
    "nport = 1\n",
    "nevents = nevents_per_port * nport"
   ]
  },
  {
   "cell_type": "code",
   "execution_count": 35,
   "metadata": {},
   "outputs": [],
   "source": [
    "def get_mc_info(f, active = True):\n",
    "    hit_df = load_dst(f, 'MC', 'hits')\n",
    "    conf_df = load_dst(f, 'MC', 'configuration')\n",
    "    if active: hit_df = hit_df[hit_df.label == 'ACTIVE']\n",
    "    hit_df = hit_df.merge(hit_df.groupby('event_id').energy.sum().rename('tot_ene'), on='event_id')\n",
    "    hit_df = hit_df.merge(hit_df.groupby('event_id').size().rename('nhits'), on='event_id')\n",
    "    hit_df_ = hit_df[['event_id', 'tot_ene', 'nhits']].drop_duplicates()\n",
    "\n",
    "    hit_df_['port'] = conf_df[conf_df.param_key == '/Generator/IonGenerator/region'].param_value.values[0].replace(' ', '')\n",
    "    # hit_df_['sim_evs'] = int(conf_df[conf_df.param_key == 'num_events'].param_value.values[0])\n",
    "    # hit_df_['sav_evs'] = int(conf_df[conf_df.param_key == 'saved_events'].param_value.values[0])\n",
    "    # hit_df_['file_id'] = int(f.split('/')[-1].split('_')[1])\n",
    "    return hit_df_"
   ]
  },
  {
   "cell_type": "code",
   "execution_count": 28,
   "metadata": {},
   "outputs": [],
   "source": [
    "info_df_228Th = pd.DataFrame()\n",
    "for f in sorted(glob.glob(path.format(city='nexus')), key = lambda x: (x.split('/')[-3], int(x.split('_')[-2]))):\n",
    "    info_df_228Th = info_df_228Th.append(get_mc_info(f))"
   ]
  },
  {
   "cell_type": "code",
   "execution_count": 31,
   "metadata": {},
   "outputs": [
    {
     "data": {
      "image/png": "[encoded data removed]",
      "text/plain": [
       "<Figure size 640x480 with 1 Axes>"
      ]
     },
     "metadata": {},
     "output_type": "display_data"
    }
   ],
   "source": [
    "plt.hist(info_df_228Th.tot_ene, 200)\n",
    "plt.title('208Tl energy spectra')\n",
    "plt.xlabel('Energy (MeV)')\n",
    "plt.yscale('log')\n",
    "plt.show()"
   ]
  },
  {
   "cell_type": "code",
   "execution_count": 25,
   "metadata": {},
   "outputs": [],
   "source": [
    "cosa_['sim_evs'] = 13"
   ]
  },
  {
   "cell_type": "code",
   "execution_count": 27,
   "metadata": {},
   "outputs": [
    {
     "data": {
      "text/html": [
       "<div>\n",
       "<style scoped>\n",
       "    .dataframe tbody tr th:only-of-type {\n",
       "        vertical-align: middle;\n",
       "    }\n",
       "\n",
       "    .dataframe tbody tr th {\n",
       "        vertical-align: top;\n",
       "    }\n",
       "\n",
       "    .dataframe thead th {\n",
       "        text-align: right;\n",
       "    }\n",
       "</style>\n",
       "<table border=\"1\" class=\"dataframe\">\n",
       "  <thead>\n",
       "    <tr style=\"text-align: right;\">\n",
       "      <th></th>\n",
       "      <th>sim_evs</th>\n",
       "      <th>sav_evs</th>\n",
       "    </tr>\n",
       "  </thead>\n",
       "  <tbody>\n",
       "  </tbody>\n",
       "</table>\n",
       "</div>"
      ],
      "text/plain": [
       "Empty DataFrame\n",
       "Columns: [sim_evs, sav_evs]\n",
       "Index: []"
      ]
     },
     "execution_count": 27,
     "metadata": {},
     "output_type": "execute_result"
    }
   ],
   "source": [
    "pd.DataFrame(columns = ['sim_evs', 'sav_evs'])"
   ]
  },
  {
   "cell_type": "code",
   "execution_count": 23,
   "metadata": {},
   "outputs": [
    {
     "data": {
      "text/html": [
       "<div>\n",
       "<style scoped>\n",
       "    .dataframe tbody tr th:only-of-type {\n",
       "        vertical-align: middle;\n",
       "    }\n",
       "\n",
       "    .dataframe tbody tr th {\n",
       "        vertical-align: top;\n",
       "    }\n",
       "\n",
       "    .dataframe thead th {\n",
       "        text-align: right;\n",
       "    }\n",
       "</style>\n",
       "<table border=\"1\" class=\"dataframe\">\n",
       "  <thead>\n",
       "    <tr style=\"text-align: right;\">\n",
       "      <th></th>\n",
       "    </tr>\n",
       "  </thead>\n",
       "  <tbody>\n",
       "  </tbody>\n",
       "</table>\n",
       "</div>"
      ],
      "text/plain": [
       "Empty DataFrame\n",
       "Columns: []\n",
       "Index: []"
      ]
     },
     "execution_count": 23,
     "metadata": {},
     "output_type": "execute_result"
    }
   ],
   "source": [
    "cosa"
   ]
  },
  {
   "cell_type": "code",
   "execution_count": 9,
   "metadata": {},
   "outputs": [
    {
     "data": {
      "text/html": [
       "<div>\n",
       "<style scoped>\n",
       "    .dataframe tbody tr th:only-of-type {\n",
       "        vertical-align: middle;\n",
       "    }\n",
       "\n",
       "    .dataframe tbody tr th {\n",
       "        vertical-align: top;\n",
       "    }\n",
       "\n",
       "    .dataframe thead th {\n",
       "        text-align: right;\n",
       "    }\n",
       "</style>\n",
       "<table border=\"1\" class=\"dataframe\">\n",
       "  <thead>\n",
       "    <tr style=\"text-align: right;\">\n",
       "      <th></th>\n",
       "      <th>event_id</th>\n",
       "      <th>tot_ene</th>\n",
       "      <th>nhits</th>\n",
       "      <th>port</th>\n",
       "    </tr>\n",
       "  </thead>\n",
       "  <tbody>\n",
       "    <tr>\n",
       "      <th>0</th>\n",
       "      <td>0</td>\n",
       "      <td>1.697479</td>\n",
       "      <td>263</td>\n",
       "      <td>PORT_1a</td>\n",
       "    </tr>\n",
       "    <tr>\n",
       "      <th>263</th>\n",
       "      <td>1</td>\n",
       "      <td>1.592507</td>\n",
       "      <td>259</td>\n",
       "      <td>PORT_1a</td>\n",
       "    </tr>\n",
       "    <tr>\n",
       "      <th>522</th>\n",
       "      <td>2</td>\n",
       "      <td>1.642702</td>\n",
       "      <td>291</td>\n",
       "      <td>PORT_1a</td>\n",
       "    </tr>\n",
       "    <tr>\n",
       "      <th>813</th>\n",
       "      <td>3</td>\n",
       "      <td>1.467953</td>\n",
       "      <td>268</td>\n",
       "      <td>PORT_1a</td>\n",
       "    </tr>\n",
       "    <tr>\n",
       "      <th>1081</th>\n",
       "      <td>4</td>\n",
       "      <td>1.680183</td>\n",
       "      <td>296</td>\n",
       "      <td>PORT_1a</td>\n",
       "    </tr>\n",
       "    <tr>\n",
       "      <th>...</th>\n",
       "      <td>...</td>\n",
       "      <td>...</td>\n",
       "      <td>...</td>\n",
       "      <td>...</td>\n",
       "    </tr>\n",
       "    <tr>\n",
       "      <th>31439</th>\n",
       "      <td>3980118</td>\n",
       "      <td>1.540285</td>\n",
       "      <td>328</td>\n",
       "      <td>PORT_1a</td>\n",
       "    </tr>\n",
       "    <tr>\n",
       "      <th>31767</th>\n",
       "      <td>3980119</td>\n",
       "      <td>1.592507</td>\n",
       "      <td>293</td>\n",
       "      <td>PORT_1a</td>\n",
       "    </tr>\n",
       "    <tr>\n",
       "      <th>32060</th>\n",
       "      <td>3980120</td>\n",
       "      <td>1.592507</td>\n",
       "      <td>278</td>\n",
       "      <td>PORT_1a</td>\n",
       "    </tr>\n",
       "    <tr>\n",
       "      <th>32338</th>\n",
       "      <td>3980121</td>\n",
       "      <td>1.605938</td>\n",
       "      <td>346</td>\n",
       "      <td>PORT_1a</td>\n",
       "    </tr>\n",
       "    <tr>\n",
       "      <th>32684</th>\n",
       "      <td>3980122</td>\n",
       "      <td>1.592507</td>\n",
       "      <td>223</td>\n",
       "      <td>PORT_1a</td>\n",
       "    </tr>\n",
       "  </tbody>\n",
       "</table>\n",
       "<p>26734 rows × 4 columns</p>\n",
       "</div>"
      ],
      "text/plain": [
       "       event_id   tot_ene  nhits     port\n",
       "0             0  1.697479    263  PORT_1a\n",
       "263           1  1.592507    259  PORT_1a\n",
       "522           2  1.642702    291  PORT_1a\n",
       "813           3  1.467953    268  PORT_1a\n",
       "1081          4  1.680183    296  PORT_1a\n",
       "...         ...       ...    ...      ...\n",
       "31439   3980118  1.540285    328  PORT_1a\n",
       "31767   3980119  1.592507    293  PORT_1a\n",
       "32060   3980120  1.592507    278  PORT_1a\n",
       "32338   3980121  1.605938    346  PORT_1a\n",
       "32684   3980122  1.592507    223  PORT_1a\n",
       "\n",
       "[26734 rows x 4 columns]"
      ]
     },
     "execution_count": 9,
     "metadata": {},
     "output_type": "execute_result"
    }
   ],
   "source": [
    "info_df_228Th"
   ]
  },
  {
   "cell_type": "code",
   "execution_count": null,
   "metadata": {},
   "outputs": [],
   "source": []
  }
 ],
 "metadata": {
  "kernelspec": {
   "display_name": "Python 3 (ipykernel)",
   "language": "python",
   "name": "python3"
  },
  "orig_nbformat": 4
 },
 "nbformat": 4,
 "nbformat_minor": 2
}
