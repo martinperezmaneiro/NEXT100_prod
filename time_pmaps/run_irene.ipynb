{
 "cells": [
  {
   "cell_type": "markdown",
   "metadata": {},
   "source": [
    "# Irene processing and reading time\n",
    "\n",
    "I ran Irene with different configurations to check differences:\n",
    " * no   compression and no   indexing: 0:01:19\n",
    " * no   compression and with indexing: 0:01:35\n",
    " * with compression and no   indexing: 0:01:20\n",
    " * with compression and with indexing: 0:01:40\n",
    "\n",
    "It seems that compression has not much to do with the time, but indexing does.\n",
    "\n",
    "Now I'll load the files and check the times for each produced file."
   ]
  },
  {
   "cell_type": "code",
   "execution_count": 1,
   "metadata": {},
   "outputs": [],
   "source": [
    "import glob\n",
    "\n",
    "from invisible_cities.io.pmaps_io import load_pmaps\n",
    "from invisible_cities.core.core_functions import timefunc"
   ]
  },
  {
   "cell_type": "code",
   "execution_count": 2,
   "metadata": {},
   "outputs": [],
   "source": [
    "pmaps = glob.glob('/Users/mperez/NEXT/NEXT100_prod/time_pmaps/*.pmaps.h5')"
   ]
  },
  {
   "cell_type": "code",
   "execution_count": 3,
   "metadata": {},
   "outputs": [
    {
     "name": "stdout",
     "output_type": "stream",
     "text": [
      "run_13845_0000_ldc1_trg0_comp_index.pmaps.h5\n",
      "Time spent in load_pmaps: 12.829791069030762 s\n",
      "run_13845_0000_ldc1_trg0.pmaps.h5\n",
      "Time spent in load_pmaps: 10.40019702911377 s\n",
      "run_13845_0000_ldc1_trg0_comp.pmaps.h5\n",
      "Time spent in load_pmaps: 10.73956298828125 s\n",
      "run_13845_0000_ldc1_trg0_index.pmaps.h5\n",
      "Time spent in load_pmaps: 9.207408905029297 s\n"
     ]
    }
   ],
   "source": [
    "for file in pmaps:\n",
    "    print(file.split('/')[-1])\n",
    "    a = timefunc(load_pmaps)(file)\n",
    "    del a\n"
   ]
  },
  {
   "cell_type": "markdown",
   "metadata": {},
   "source": [
    "Reading times went like:\n",
    "\n",
    " * no   compression and no   indexing: 10.156071186065674 s\n",
    " * no   compression and with indexing: 9.706531763076782 s\n",
    " * with compression and no   indexing: 10.629869937896729 s\n",
    " * with compression and with indexing: 12.877891778945923 s"
   ]
  },
  {
   "cell_type": "code",
   "execution_count": null,
   "metadata": {},
   "outputs": [],
   "source": []
  }
 ],
 "metadata": {
  "kernelspec": {
   "display_name": "IC-3.8-2022-04-13",
   "language": "python",
   "name": "python3"
  },
  "language_info": {
   "codemirror_mode": {
    "name": "ipython",
    "version": 3
   },
   "file_extension": ".py",
   "mimetype": "text/x-python",
   "name": "python",
   "nbconvert_exporter": "python",
   "pygments_lexer": "ipython3",
   "version": "3.8.19"
  }
 },
 "nbformat": 4,
 "nbformat_minor": 2
}
