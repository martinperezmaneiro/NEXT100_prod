{
 "cells": [
  {
   "attachments": {},
   "cell_type": "markdown",
   "metadata": {},
   "source": [
    "## Counting experiment for all the processed MC"
   ]
  },
  {
   "cell_type": "code",
   "execution_count": 1,
   "metadata": {},
   "outputs": [],
   "source": [
    "import numpy as np\n",
    "import os\n",
    "import pandas as pd\n",
    "import tables as tb\n",
    "from glob import glob\n",
    "\n",
    "import matplotlib.pyplot as plt\n",
    "import invisible_cities.io.dst_io as dio\n",
    "\n",
    "from matplotlib.patches import Patch"
   ]
  },
  {
   "attachments": {},
   "cell_type": "markdown",
   "metadata": {},
   "source": [
    "From Gonzalo's thesis, he does a selection following the next cuts:\n",
    "\n",
    "* **nexus**: picks the events that have a total energy inside the energy range\n",
    "* **reco**: picks the events that have passed the reconstruction (I guess after Beersheba)\n",
    "* **ene**: picks the events that have a total energy inside the energy range AFTER the reconstruction (due to energy corrections)\n",
    "* **fid**: picks the events that have a R center of mass (hit transversal position weighted with energy) such as R < 45 cm (4cm from the chamber edges) and a Z center of mass of 2 < Z < 116 cm (2cm from the electrodes). It is correlated with the previous cut as the high radius events are corrected worse and have less energy than they should so are already removed.\n",
    "* **track**: picks the events with 1 single reconstructed track (isaura)\n",
    "* **ovl**: removes events where the track defined blobs have any bit of overlap\n",
    "\n",
    "These are the analysis selections. For discrimination selections, we have two options:\n",
    "* **ROI**: selects the events based on an optimal energy window where the f.o.m. is maximized, in Gonzalo's analysis is [2.456, 2.472] MeV \n",
    "* **topo**: selects the events based on the energy of the least energetic blob, in this case picks the events with an energy > 0.57 MeV"
   ]
  },
  {
   "cell_type": "code",
   "execution_count": 2,
   "metadata": {},
   "outputs": [],
   "source": [
    "def remove_spurious_tracks(tracks, spurious_energy):\n",
    "    sel_spurious = (tracks.energy < spurious_energy)\n",
    "    spurious_energies = tracks.loc[sel_spurious].groupby('event').energy.sum().reset_index().rename(columns={'energy':'spurious_ene'})\n",
    "    spurious_energies['trackID'] = 0\n",
    "    \n",
    "    tracks = tracks.merge(spurious_energies, on = ['event', 'trackID'], how = 'outer')\n",
    "    tracks['spurious_ene'] = tracks['spurious_ene'].fillna(0)\n",
    "\n",
    "    tracks['energy'] = tracks['energy'] + tracks['spurious_ene']\n",
    "    tracks = tracks.loc[~sel_spurious].drop('spurious_ene', axis = 1)\n",
    "    tracks = tracks.drop('numb_of_tracks', axis = 1).merge(tracks.groupby('event').trackID.nunique().reset_index().rename(columns={'trackID':'numb_of_tracks'}), on = 'event')\n",
    "    return tracks"
   ]
  },
  {
   "cell_type": "code",
   "execution_count": 3,
   "metadata": {},
   "outputs": [],
   "source": [
    "def sum_dif_lens(a, b):\n",
    "    lena, lenb = len(a), len(b)\n",
    "    diff = abs(lena - lenb)\n",
    "    if lena > lenb:\n",
    "        b = np.append(b, np.zeros(diff, dtype = int))\n",
    "    elif lena < lenb:\n",
    "        a = np.append(a, np.zeros(diff, dtype = int))\n",
    "    else:\n",
    "        pass\n",
    "    return a + b"
   ]
  },
  {
   "cell_type": "code",
   "execution_count": 32,
   "metadata": {},
   "outputs": [],
   "source": [
    "def count_experiment(nexus_df, \n",
    "                     isa_df,\n",
    "                     ene_min = 0.8, \n",
    "                     ene_range = (2.4, 2.5), \n",
    "                     rmax = 450, \n",
    "                     zmin = 20, \n",
    "                     zmax = 1160, \n",
    "                     ntrack = 1, \n",
    "                     ovlp = 0, \n",
    "                     ene_roi = (2.456, 2.472), \n",
    "                     eblob2 = 0.57):\n",
    "        nexus, reco, ener, ener_roi, fid, fid_roi, track, track_roi, ovl, ovl_roi, roi, topo, topo_roi, topo_roi_full = 0,0,0,0,0,0,0,0,0,0,0,0,0,0\n",
    "\n",
    "        #NEXUS\n",
    "        nexus += len(nexus_df.event_id.unique())\n",
    "        nexus_tot_ene = nexus_df.groupby('event_id').sum().reset_index()[['event_id', 'energy']]\n",
    "\n",
    "        #RECO\n",
    "        reco += len(isa_df.event.unique())\n",
    "\n",
    "        #ENE\n",
    "        # To create the reconstructed energy spectra\n",
    "        isa_tot_ene = isa_df.groupby('event').sum().reset_index()[['event', 'energy']]\n",
    "        isa_df_ = isa_df.merge(isa_tot_ene.rename(columns = {'energy':'tot_ener'}), on = ['event'])\n",
    "        isa_df_ene = isa_df_[isa_df_.tot_ener > ene_min]\n",
    "        ener += len(isa_df_ene.event.unique())\n",
    "\n",
    "        isa_df_ene_roi = isa_df_[(isa_df_.tot_ener > ene_range[0]) & (isa_df_.tot_ener < ene_range[1])]\n",
    "        ener_roi += len(isa_df_ene_roi.event.unique())\n",
    "\n",
    "        #FID\n",
    "        isa_df_fid = isa_df_ene[(isa_df_ene.r_max < rmax) & (isa_df_ene.z_min > zmin) & (isa_df_ene.z_max < zmax)]\n",
    "        fid += len(isa_df_fid.event.unique())\n",
    "\n",
    "        isa_df_fid_roi = isa_df_ene_roi[(isa_df_ene_roi.r_max < rmax) & (isa_df_ene_roi.z_min > zmin) & (isa_df_ene_roi.z_max < zmax)]\n",
    "        fid_roi += len(isa_df_fid_roi.event.unique())   \n",
    "        \n",
    "        #After the fiducialization, we take a look to the energy spectra and to the track multiplicity (mainly to justify the cuts)\n",
    "        isa_tot_ene_fid = isa_df_fid.groupby('event').sum().reset_index()[['event', 'energy']]\n",
    "        isa_numtracks = isa_df_fid[['event', 'numb_of_tracks']].drop_duplicates().numb_of_tracks\n",
    "\n",
    "        #TRACK\n",
    "        isa_df_track = isa_df_fid[isa_df_fid.numb_of_tracks == ntrack]\n",
    "        track += len(isa_df_track)\n",
    "\n",
    "        isa_df_track_roi = isa_df_fid_roi[isa_df_fid_roi.numb_of_tracks == ntrack]\n",
    "        track_roi += len(isa_df_track_roi)\n",
    "\n",
    "        #OVL\n",
    "        isa_df_ovl = isa_df_track[isa_df_track.ovlp_blob_energy == ovlp]\n",
    "        ovl += len(isa_df_ovl)\n",
    "\n",
    "        isa_df_ovl_roi = isa_df_track_roi[isa_df_track_roi.ovlp_blob_energy == ovlp]\n",
    "        ovl_roi += len(isa_df_ovl_roi)\n",
    "\n",
    "        # After track and ovl cuts, we pick the energy distribution of the second blob\n",
    "        isa_eblob2 = isa_df_ovl[['event', 'eblob2']]\n",
    "\n",
    "        #ROI\n",
    "        isa_df_roi = isa_df_ovl[(isa_df_ovl.tot_ener > ene_roi[0]) & (isa_df_ovl.tot_ener < ene_roi[1])]\n",
    "        roi += len(isa_df_roi)\n",
    "\n",
    "        #TOPO\n",
    "        isa_df_topo = isa_df_ovl[isa_df_ovl.eblob2 > eblob2]\n",
    "        topo += len(isa_df_topo)\n",
    "\n",
    "        isa_df_topo_roi = isa_df_ovl_roi[isa_df_ovl_roi.eblob2 > eblob2]\n",
    "        topo_roi += len(isa_df_topo_roi)\n",
    "\n",
    "\n",
    "        isa_df_topo_full = isa_df_roi[isa_df_roi.eblob2 > eblob2]\n",
    "        topo_roi_full += len(isa_df_topo_full)\n",
    "\n",
    "        counts = np.array([nexus, reco, ener, ener_roi, fid, fid_roi, track, track_roi, ovl, ovl_roi, roi, topo, topo_roi, topo_roi_full])\n",
    "        return counts, nexus_tot_ene, isa_tot_ene, isa_tot_ene_fid, isa_numtracks, isa_eblob2"
   ]
  },
  {
   "cell_type": "code",
   "execution_count": 33,
   "metadata": {},
   "outputs": [
    {
     "name": "stdout",
     "output_type": "stream",
     "text": [
      "ANODE_RING\n",
      "1486    True\n",
      "2043    True\n",
      "Name: ovlp_blob_energy, dtype: bool\n"
     ]
    }
   ],
   "source": [
    "#df_values = []\n",
    "\n",
    "# This script creates for an isotope a file per volume saving the info of the counting experiment, energy spectra (nexus, reco and reco\n",
    "# after fiducialization), number of tracks and energy of the second blob for the main tracks\n",
    "\n",
    "# isotope = '214Bi'\n",
    "# base_dir = os.path.expandvars('$LUSTRE/NEXT100/data/full_prod/{}/prod/volumes/*/'.format(isotope))\n",
    "# vol_paths = sorted(glob(base_dir))\n",
    "\n",
    "# sort_files = lambda x: int(x.split('_')[-2])\n",
    "# outname = 'tracks_info.h5'\n",
    "\n",
    "# for vol_path in vol_paths:\n",
    "#     vol = vol_path.split('/')[-2]\n",
    "#     print(vol)\n",
    "#     isaura_files = sorted(glob(vol_path + 'prod/isaura/*'), key=sort_files)\n",
    "#     nexus_files = sorted(glob(vol_path + 'prod/nexus/*'), key=sort_files)\n",
    "\n",
    "#     total_counts = np.zeros(14, dtype = int)\n",
    "#     for isaura_file, nexus_file in zip(isaura_files, nexus_files):\n",
    "#         nexus_df = dio.load_dst(nexus_file, 'MC', 'hits')\n",
    "#         isa_df = remove_spurious_tracks(dio.load_dst(isaura_file, 'Tracking', 'Tracks'), 0.01)\n",
    "#         counts, nexus_tot_ene, isa_tot_ene, isa_tot_ene_fid, isa_numtracks, isa_eblob2 = count_experiment(nexus_df, isa_df)\n",
    "        \n",
    "#         total_counts += counts\n",
    "\n",
    "    #     outpath= '/'.join(isaura_file.split('/')[:-3]) + '/'\n",
    "    #     isa_tot_ene.to_hdf(outpath + outname, 'RecoEner', append=True)\n",
    "    #     isa_tot_ene_fid.to_hdf(outpath + outname, 'RecoEnerFid', append=True)\n",
    "    #     isa_numtracks.to_hdf(outpath + outname, 'NumTracks', append=True)\n",
    "    #     isa_eblob2.to_hdf(outpath + outname, 'EneBlob2', append=True)\n",
    "        \n",
    "    # df_dct = {'vol': vol, 'nexus':total_counts[0], 'reco':total_counts[1], 'ener':total_counts[2], \n",
    "    #             'ener_roi':total_counts[3], 'fid':total_counts[4], 'fid_roi':total_counts[5], 'track':total_counts[6], \n",
    "    #             'track_roi':total_counts[7], 'ovl':total_counts[8], 'ovl_roi':total_counts[9], 'roi':total_counts[10], \n",
    "    #             'topo':total_counts[11], 'topo_roi':total_counts[12], 'topo_roi_full':total_counts[13]}\n",
    "    # pd.DataFrame([df_dct]).to_hdf(outpath + outname, 'selection_rates', append = True, min_itemsize=20)\n",
    "\n",
    "\n",
    "### LO Q PODRÍA HACER ES IR GUARDANDO POR VOLUMEN YA CON df.to_hdf() y con la opción append para q no me lo sobreescriba digo yo, y así \n",
    "### si se me para lo puedo recuperar, O SI NO, hacer un script de esto (pero igualmente me parece buena idea irlo guardando)\n"
   ]
  },
  {
   "cell_type": "code",
   "execution_count": 38,
   "metadata": {},
   "outputs": [
    {
     "name": "stdout",
     "output_type": "stream",
     "text": [
      "/mnt/lustre/scratch/nlsas//home/usc/ie/mpm/NEXT100/data/full_prod/214Bi/prod/volumes/DB_PLUG/tracks_info.h5 (File) ''\n",
      "Last modif.: 'Wed Jul  5 11:29:55 2023'\n",
      "Object Tree: \n",
      "/ (RootGroup) ''\n",
      "/EneBlob2 (Group) ''\n",
      "/EneBlob2/table (Table(1553,)) ''\n",
      "/MCEner (Group) ''\n",
      "/MCEner/table (Table(10053,)) ''\n",
      "/NumTracks (Group) ''\n",
      "/NumTracks/table (Table(8246,)) ''\n",
      "/RecoEner (Group) ''\n",
      "/RecoEner/table (Table(9801,)) ''\n",
      "/RecoEnerFid (Group) ''\n",
      "/RecoEnerFid/table (Table(8246,)) ''\n",
      "/selection_rates (Group) ''\n",
      "/selection_rates/table (Table(1,)) ''\n",
      "\n"
     ]
    }
   ],
   "source": [
    "with tb.open_file(glob(base_dir)[0] + 'tracks_info.h5') as h5in:\n",
    "    print(h5in)"
   ]
  },
  {
   "cell_type": "code",
   "execution_count": 37,
   "metadata": {},
   "outputs": [
    {
     "data": {
      "text/html": [
       "<div>\n",
       "<style scoped>\n",
       "    .dataframe tbody tr th:only-of-type {\n",
       "        vertical-align: middle;\n",
       "    }\n",
       "\n",
       "    .dataframe tbody tr th {\n",
       "        vertical-align: top;\n",
       "    }\n",
       "\n",
       "    .dataframe thead th {\n",
       "        text-align: right;\n",
       "    }\n",
       "</style>\n",
       "<table border=\"1\" class=\"dataframe\">\n",
       "  <thead>\n",
       "    <tr style=\"text-align: right;\">\n",
       "      <th></th>\n",
       "      <th>vol</th>\n",
       "      <th>nexus</th>\n",
       "      <th>reco</th>\n",
       "      <th>ener</th>\n",
       "      <th>ener_roi</th>\n",
       "      <th>fid</th>\n",
       "      <th>fid_roi</th>\n",
       "      <th>track</th>\n",
       "      <th>track_roi</th>\n",
       "      <th>ovl</th>\n",
       "      <th>ovl_roi</th>\n",
       "      <th>roi</th>\n",
       "      <th>topo</th>\n",
       "      <th>topo_roi</th>\n",
       "      <th>topo_roi_full</th>\n",
       "    </tr>\n",
       "  </thead>\n",
       "  <tbody>\n",
       "    <tr>\n",
       "      <th>0</th>\n",
       "      <td>GATE_RING</td>\n",
       "      <td>109300</td>\n",
       "      <td>102846</td>\n",
       "      <td>88684</td>\n",
       "      <td>219</td>\n",
       "      <td>77974</td>\n",
       "      <td>212</td>\n",
       "      <td>28329</td>\n",
       "      <td>30</td>\n",
       "      <td>13748</td>\n",
       "      <td>30</td>\n",
       "      <td>4</td>\n",
       "      <td>230</td>\n",
       "      <td>2</td>\n",
       "      <td>0</td>\n",
       "    </tr>\n",
       "  </tbody>\n",
       "</table>\n",
       "</div>"
      ],
      "text/plain": [
       "         vol   nexus    reco   ener  ener_roi    fid  fid_roi  track  \\\n",
       "0  GATE_RING  109300  102846  88684       219  77974      212  28329   \n",
       "\n",
       "   track_roi    ovl  ovl_roi  roi  topo  topo_roi  topo_roi_full  \n",
       "0         30  13748       30    4   230         2              0  "
      ]
     },
     "execution_count": 37,
     "metadata": {},
     "output_type": "execute_result"
    }
   ],
   "source": [
    "pd.read_hdf(sorted(glob(base_dir))[5] + 'tracks_info.h5', 'selection_rates')"
   ]
  },
  {
   "cell_type": "code",
   "execution_count": 14,
   "metadata": {},
   "outputs": [
    {
     "data": {
      "text/html": [
       "<div>\n",
       "<style scoped>\n",
       "    .dataframe tbody tr th:only-of-type {\n",
       "        vertical-align: middle;\n",
       "    }\n",
       "\n",
       "    .dataframe tbody tr th {\n",
       "        vertical-align: top;\n",
       "    }\n",
       "\n",
       "    .dataframe thead th {\n",
       "        text-align: right;\n",
       "    }\n",
       "</style>\n",
       "<table border=\"1\" class=\"dataframe\">\n",
       "  <thead>\n",
       "    <tr style=\"text-align: right;\">\n",
       "      <th></th>\n",
       "      <th>vol</th>\n",
       "      <th>nexus</th>\n",
       "      <th>reco</th>\n",
       "      <th>ener</th>\n",
       "      <th>ener_roi</th>\n",
       "      <th>fid</th>\n",
       "      <th>fid_roi</th>\n",
       "      <th>track</th>\n",
       "      <th>track_roi</th>\n",
       "      <th>ovl</th>\n",
       "      <th>ovl_roi</th>\n",
       "      <th>roi</th>\n",
       "      <th>topo</th>\n",
       "      <th>topo_roi</th>\n",
       "      <th>topo_roi_full</th>\n",
       "    </tr>\n",
       "  </thead>\n",
       "  <tbody>\n",
       "    <tr>\n",
       "      <th>0</th>\n",
       "      <td>ANODE_RING</td>\n",
       "      <td>102901</td>\n",
       "      <td>96871</td>\n",
       "      <td>85534</td>\n",
       "      <td>178</td>\n",
       "      <td>75567</td>\n",
       "      <td>174</td>\n",
       "      <td>28063</td>\n",
       "      <td>30</td>\n",
       "      <td>13497</td>\n",
       "      <td>29</td>\n",
       "      <td>4</td>\n",
       "      <td>275</td>\n",
       "      <td>2</td>\n",
       "      <td>0</td>\n",
       "    </tr>\n",
       "    <tr>\n",
       "      <th>0</th>\n",
       "      <td>CATHODE_RING</td>\n",
       "      <td>119235</td>\n",
       "      <td>118001</td>\n",
       "      <td>97600</td>\n",
       "      <td>212</td>\n",
       "      <td>79451</td>\n",
       "      <td>199</td>\n",
       "      <td>29821</td>\n",
       "      <td>43</td>\n",
       "      <td>13386</td>\n",
       "      <td>43</td>\n",
       "      <td>5</td>\n",
       "      <td>320</td>\n",
       "      <td>4</td>\n",
       "      <td>2</td>\n",
       "    </tr>\n",
       "    <tr>\n",
       "      <th>0</th>\n",
       "      <td>DB_PLUG</td>\n",
       "      <td>10053</td>\n",
       "      <td>9801</td>\n",
       "      <td>9026</td>\n",
       "      <td>13</td>\n",
       "      <td>8246</td>\n",
       "      <td>12</td>\n",
       "      <td>3617</td>\n",
       "      <td>2</td>\n",
       "      <td>1553</td>\n",
       "      <td>2</td>\n",
       "      <td>0</td>\n",
       "      <td>28</td>\n",
       "      <td>1</td>\n",
       "      <td>0</td>\n",
       "    </tr>\n",
       "    <tr>\n",
       "      <th>0</th>\n",
       "      <td>EP_COPPER_PLATE</td>\n",
       "      <td>605201</td>\n",
       "      <td>601629</td>\n",
       "      <td>549980</td>\n",
       "      <td>1142</td>\n",
       "      <td>474091</td>\n",
       "      <td>1102</td>\n",
       "      <td>209629</td>\n",
       "      <td>159</td>\n",
       "      <td>89120</td>\n",
       "      <td>158</td>\n",
       "      <td>37</td>\n",
       "      <td>2191</td>\n",
       "      <td>18</td>\n",
       "      <td>4</td>\n",
       "    </tr>\n",
       "    <tr>\n",
       "      <th>0</th>\n",
       "      <td>FIELD_RING</td>\n",
       "      <td>1040911</td>\n",
       "      <td>1026587</td>\n",
       "      <td>873411</td>\n",
       "      <td>1826</td>\n",
       "      <td>769544</td>\n",
       "      <td>1777</td>\n",
       "      <td>269231</td>\n",
       "      <td>264</td>\n",
       "      <td>125696</td>\n",
       "      <td>264</td>\n",
       "      <td>45</td>\n",
       "      <td>2916</td>\n",
       "      <td>21</td>\n",
       "      <td>5</td>\n",
       "    </tr>\n",
       "    <tr>\n",
       "      <th>0</th>\n",
       "      <td>GATE_RING</td>\n",
       "      <td>109300</td>\n",
       "      <td>102846</td>\n",
       "      <td>88684</td>\n",
       "      <td>219</td>\n",
       "      <td>77974</td>\n",
       "      <td>212</td>\n",
       "      <td>28329</td>\n",
       "      <td>30</td>\n",
       "      <td>13748</td>\n",
       "      <td>30</td>\n",
       "      <td>4</td>\n",
       "      <td>230</td>\n",
       "      <td>2</td>\n",
       "      <td>0</td>\n",
       "    </tr>\n",
       "    <tr>\n",
       "      <th>0</th>\n",
       "      <td>HDPE_TUBE</td>\n",
       "      <td>71352</td>\n",
       "      <td>70696</td>\n",
       "      <td>61806</td>\n",
       "      <td>152</td>\n",
       "      <td>54694</td>\n",
       "      <td>148</td>\n",
       "      <td>20842</td>\n",
       "      <td>15</td>\n",
       "      <td>9567</td>\n",
       "      <td>15</td>\n",
       "      <td>3</td>\n",
       "      <td>242</td>\n",
       "      <td>0</td>\n",
       "      <td>0</td>\n",
       "    </tr>\n",
       "    <tr>\n",
       "      <th>0</th>\n",
       "      <td>ICS</td>\n",
       "      <td>648308</td>\n",
       "      <td>641327</td>\n",
       "      <td>572087</td>\n",
       "      <td>1282</td>\n",
       "      <td>510700</td>\n",
       "      <td>1248</td>\n",
       "      <td>212719</td>\n",
       "      <td>208</td>\n",
       "      <td>94835</td>\n",
       "      <td>207</td>\n",
       "      <td>29</td>\n",
       "      <td>2058</td>\n",
       "      <td>15</td>\n",
       "      <td>1</td>\n",
       "    </tr>\n",
       "    <tr>\n",
       "      <th>0</th>\n",
       "      <td>LIGHT_TUBE</td>\n",
       "      <td>117142</td>\n",
       "      <td>114022</td>\n",
       "      <td>80655</td>\n",
       "      <td>213</td>\n",
       "      <td>64123</td>\n",
       "      <td>189</td>\n",
       "      <td>20306</td>\n",
       "      <td>22</td>\n",
       "      <td>9673</td>\n",
       "      <td>22</td>\n",
       "      <td>3</td>\n",
       "      <td>236</td>\n",
       "      <td>2</td>\n",
       "      <td>2</td>\n",
       "    </tr>\n",
       "    <tr>\n",
       "      <th>0</th>\n",
       "      <td>OPTICAL_PAD</td>\n",
       "      <td>112299</td>\n",
       "      <td>111576</td>\n",
       "      <td>101545</td>\n",
       "      <td>246</td>\n",
       "      <td>86155</td>\n",
       "      <td>237</td>\n",
       "      <td>36057</td>\n",
       "      <td>41</td>\n",
       "      <td>16261</td>\n",
       "      <td>41</td>\n",
       "      <td>6</td>\n",
       "      <td>423</td>\n",
       "      <td>3</td>\n",
       "      <td>1</td>\n",
       "    </tr>\n",
       "    <tr>\n",
       "      <th>0</th>\n",
       "      <td>PEDESTAL</td>\n",
       "      <td>4252</td>\n",
       "      <td>4199</td>\n",
       "      <td>3842</td>\n",
       "      <td>10</td>\n",
       "      <td>3446</td>\n",
       "      <td>10</td>\n",
       "      <td>1573</td>\n",
       "      <td>1</td>\n",
       "      <td>682</td>\n",
       "      <td>1</td>\n",
       "      <td>0</td>\n",
       "      <td>9</td>\n",
       "      <td>0</td>\n",
       "      <td>0</td>\n",
       "    </tr>\n",
       "    <tr>\n",
       "      <th>0</th>\n",
       "      <td>PMT</td>\n",
       "      <td>217761</td>\n",
       "      <td>216275</td>\n",
       "      <td>196862</td>\n",
       "      <td>462</td>\n",
       "      <td>168591</td>\n",
       "      <td>442</td>\n",
       "      <td>72105</td>\n",
       "      <td>64</td>\n",
       "      <td>31511</td>\n",
       "      <td>64</td>\n",
       "      <td>13</td>\n",
       "      <td>828</td>\n",
       "      <td>5</td>\n",
       "      <td>1</td>\n",
       "    </tr>\n",
       "    <tr>\n",
       "      <th>0</th>\n",
       "      <td>PMT_BASE</td>\n",
       "      <td>114856</td>\n",
       "      <td>113901</td>\n",
       "      <td>105294</td>\n",
       "      <td>235</td>\n",
       "      <td>93842</td>\n",
       "      <td>228</td>\n",
       "      <td>42550</td>\n",
       "      <td>40</td>\n",
       "      <td>18808</td>\n",
       "      <td>40</td>\n",
       "      <td>4</td>\n",
       "      <td>449</td>\n",
       "      <td>4</td>\n",
       "      <td>1</td>\n",
       "    </tr>\n",
       "    <tr>\n",
       "      <th>0</th>\n",
       "      <td>SAPPHIRE_WINDOW</td>\n",
       "      <td>132235</td>\n",
       "      <td>131388</td>\n",
       "      <td>119527</td>\n",
       "      <td>268</td>\n",
       "      <td>101725</td>\n",
       "      <td>255</td>\n",
       "      <td>42570</td>\n",
       "      <td>50</td>\n",
       "      <td>18812</td>\n",
       "      <td>50</td>\n",
       "      <td>3</td>\n",
       "      <td>500</td>\n",
       "      <td>3</td>\n",
       "      <td>0</td>\n",
       "    </tr>\n",
       "    <tr>\n",
       "      <th>0</th>\n",
       "      <td>SHIELDING_LEAD</td>\n",
       "      <td>76449</td>\n",
       "      <td>12814</td>\n",
       "      <td>11853</td>\n",
       "      <td>29</td>\n",
       "      <td>10733</td>\n",
       "      <td>29</td>\n",
       "      <td>4586</td>\n",
       "      <td>3</td>\n",
       "      <td>1976</td>\n",
       "      <td>3</td>\n",
       "      <td>0</td>\n",
       "      <td>44</td>\n",
       "      <td>0</td>\n",
       "      <td>0</td>\n",
       "    </tr>\n",
       "    <tr>\n",
       "      <th>0</th>\n",
       "      <td>SHIELDING_STEEL</td>\n",
       "      <td>4474</td>\n",
       "      <td>4436</td>\n",
       "      <td>4072</td>\n",
       "      <td>7</td>\n",
       "      <td>3639</td>\n",
       "      <td>7</td>\n",
       "      <td>1618</td>\n",
       "      <td>0</td>\n",
       "      <td>702</td>\n",
       "      <td>0</td>\n",
       "      <td>0</td>\n",
       "      <td>11</td>\n",
       "      <td>0</td>\n",
       "      <td>0</td>\n",
       "    </tr>\n",
       "    <tr>\n",
       "      <th>0</th>\n",
       "      <td>SHIELDING_STRUCT</td>\n",
       "      <td>4469</td>\n",
       "      <td>4396</td>\n",
       "      <td>4059</td>\n",
       "      <td>9</td>\n",
       "      <td>3496</td>\n",
       "      <td>9</td>\n",
       "      <td>1523</td>\n",
       "      <td>1</td>\n",
       "      <td>656</td>\n",
       "      <td>1</td>\n",
       "      <td>1</td>\n",
       "      <td>10</td>\n",
       "      <td>0</td>\n",
       "      <td>0</td>\n",
       "    </tr>\n",
       "    <tr>\n",
       "      <th>0</th>\n",
       "      <td>SIPM_BOARD</td>\n",
       "      <td>923343</td>\n",
       "      <td>764229</td>\n",
       "      <td>695380</td>\n",
       "      <td>1642</td>\n",
       "      <td>626889</td>\n",
       "      <td>1581</td>\n",
       "      <td>210737</td>\n",
       "      <td>239</td>\n",
       "      <td>105374</td>\n",
       "      <td>239</td>\n",
       "      <td>34</td>\n",
       "      <td>1879</td>\n",
       "      <td>10</td>\n",
       "      <td>1</td>\n",
       "    </tr>\n",
       "    <tr>\n",
       "      <th>0</th>\n",
       "      <td>TP_COPPER_PLATE</td>\n",
       "      <td>785945</td>\n",
       "      <td>754088</td>\n",
       "      <td>689282</td>\n",
       "      <td>1475</td>\n",
       "      <td>626071</td>\n",
       "      <td>1431</td>\n",
       "      <td>246044</td>\n",
       "      <td>236</td>\n",
       "      <td>115352</td>\n",
       "      <td>235</td>\n",
       "      <td>45</td>\n",
       "      <td>2036</td>\n",
       "      <td>15</td>\n",
       "      <td>4</td>\n",
       "    </tr>\n",
       "    <tr>\n",
       "      <th>0</th>\n",
       "      <td>VESSEL</td>\n",
       "      <td>275430</td>\n",
       "      <td>68661</td>\n",
       "      <td>62987</td>\n",
       "      <td>157</td>\n",
       "      <td>56257</td>\n",
       "      <td>154</td>\n",
       "      <td>24900</td>\n",
       "      <td>27</td>\n",
       "      <td>10651</td>\n",
       "      <td>27</td>\n",
       "      <td>6</td>\n",
       "      <td>207</td>\n",
       "      <td>0</td>\n",
       "      <td>0</td>\n",
       "    </tr>\n",
       "  </tbody>\n",
       "</table>\n",
       "</div>"
      ],
      "text/plain": [
       "                vol    nexus     reco    ener  ener_roi     fid  fid_roi  \\\n",
       "0        ANODE_RING   102901    96871   85534       178   75567      174   \n",
       "0      CATHODE_RING   119235   118001   97600       212   79451      199   \n",
       "0           DB_PLUG    10053     9801    9026        13    8246       12   \n",
       "0   EP_COPPER_PLATE   605201   601629  549980      1142  474091     1102   \n",
       "0        FIELD_RING  1040911  1026587  873411      1826  769544     1777   \n",
       "0         GATE_RING   109300   102846   88684       219   77974      212   \n",
       "0         HDPE_TUBE    71352    70696   61806       152   54694      148   \n",
       "0               ICS   648308   641327  572087      1282  510700     1248   \n",
       "0        LIGHT_TUBE   117142   114022   80655       213   64123      189   \n",
       "0       OPTICAL_PAD   112299   111576  101545       246   86155      237   \n",
       "0          PEDESTAL     4252     4199    3842        10    3446       10   \n",
       "0               PMT   217761   216275  196862       462  168591      442   \n",
       "0          PMT_BASE   114856   113901  105294       235   93842      228   \n",
       "0   SAPPHIRE_WINDOW   132235   131388  119527       268  101725      255   \n",
       "0    SHIELDING_LEAD    76449    12814   11853        29   10733       29   \n",
       "0   SHIELDING_STEEL     4474     4436    4072         7    3639        7   \n",
       "0  SHIELDING_STRUCT     4469     4396    4059         9    3496        9   \n",
       "0        SIPM_BOARD   923343   764229  695380      1642  626889     1581   \n",
       "0   TP_COPPER_PLATE   785945   754088  689282      1475  626071     1431   \n",
       "0            VESSEL   275430    68661   62987       157   56257      154   \n",
       "\n",
       "    track  track_roi     ovl  ovl_roi  roi  topo  topo_roi  topo_roi_full  \n",
       "0   28063         30   13497       29    4   275         2              0  \n",
       "0   29821         43   13386       43    5   320         4              2  \n",
       "0    3617          2    1553        2    0    28         1              0  \n",
       "0  209629        159   89120      158   37  2191        18              4  \n",
       "0  269231        264  125696      264   45  2916        21              5  \n",
       "0   28329         30   13748       30    4   230         2              0  \n",
       "0   20842         15    9567       15    3   242         0              0  \n",
       "0  212719        208   94835      207   29  2058        15              1  \n",
       "0   20306         22    9673       22    3   236         2              2  \n",
       "0   36057         41   16261       41    6   423         3              1  \n",
       "0    1573          1     682        1    0     9         0              0  \n",
       "0   72105         64   31511       64   13   828         5              1  \n",
       "0   42550         40   18808       40    4   449         4              1  \n",
       "0   42570         50   18812       50    3   500         3              0  \n",
       "0    4586          3    1976        3    0    44         0              0  \n",
       "0    1618          0     702        0    0    11         0              0  \n",
       "0    1523          1     656        1    1    10         0              0  \n",
       "0  210737        239  105374      239   34  1879        10              1  \n",
       "0  246044        236  115352      235   45  2036        15              4  \n",
       "0   24900         27   10651       27    6   207         0              0  "
      ]
     },
     "execution_count": 14,
     "metadata": {},
     "output_type": "execute_result"
    }
   ],
   "source": [
    "pd.read_hdf(glob(base_dir)[0][:-8] + 'final_bkg_rates_selection_spurious.h5', 'selection_rates')"
   ]
  },
  {
   "cell_type": "code",
   "execution_count": 46,
   "metadata": {},
   "outputs": [
    {
     "data": {
      "text/html": [
       "<div>\n",
       "<style scoped>\n",
       "    .dataframe tbody tr th:only-of-type {\n",
       "        vertical-align: middle;\n",
       "    }\n",
       "\n",
       "    .dataframe tbody tr th {\n",
       "        vertical-align: top;\n",
       "    }\n",
       "\n",
       "    .dataframe thead th {\n",
       "        text-align: right;\n",
       "    }\n",
       "</style>\n",
       "<table border=\"1\" class=\"dataframe\">\n",
       "  <thead>\n",
       "    <tr style=\"text-align: right;\">\n",
       "      <th></th>\n",
       "      <th>vol</th>\n",
       "      <th>nexus</th>\n",
       "      <th>reco</th>\n",
       "      <th>ener</th>\n",
       "      <th>ener_roi</th>\n",
       "      <th>fid</th>\n",
       "      <th>fid_roi</th>\n",
       "      <th>track</th>\n",
       "      <th>track_roi</th>\n",
       "      <th>ovl</th>\n",
       "      <th>ovl_roi</th>\n",
       "      <th>roi</th>\n",
       "      <th>topo</th>\n",
       "      <th>topo_roi</th>\n",
       "      <th>topo_roi_full</th>\n",
       "    </tr>\n",
       "  </thead>\n",
       "  <tbody>\n",
       "    <tr>\n",
       "      <th>0</th>\n",
       "      <td>ANODE_RING</td>\n",
       "      <td>102901</td>\n",
       "      <td>96871</td>\n",
       "      <td>85534</td>\n",
       "      <td>178</td>\n",
       "      <td>75567</td>\n",
       "      <td>174</td>\n",
       "      <td>28063</td>\n",
       "      <td>30</td>\n",
       "      <td>13497</td>\n",
       "      <td>29</td>\n",
       "      <td>4</td>\n",
       "      <td>275</td>\n",
       "      <td>2</td>\n",
       "      <td>0</td>\n",
       "    </tr>\n",
       "    <tr>\n",
       "      <th>0</th>\n",
       "      <td>CATHODE_RING</td>\n",
       "      <td>119235</td>\n",
       "      <td>118001</td>\n",
       "      <td>97600</td>\n",
       "      <td>212</td>\n",
       "      <td>79451</td>\n",
       "      <td>199</td>\n",
       "      <td>29821</td>\n",
       "      <td>43</td>\n",
       "      <td>13386</td>\n",
       "      <td>43</td>\n",
       "      <td>5</td>\n",
       "      <td>320</td>\n",
       "      <td>4</td>\n",
       "      <td>2</td>\n",
       "    </tr>\n",
       "    <tr>\n",
       "      <th>0</th>\n",
       "      <td>DB_PLUG</td>\n",
       "      <td>10053</td>\n",
       "      <td>9801</td>\n",
       "      <td>9026</td>\n",
       "      <td>13</td>\n",
       "      <td>8246</td>\n",
       "      <td>12</td>\n",
       "      <td>3617</td>\n",
       "      <td>2</td>\n",
       "      <td>1553</td>\n",
       "      <td>2</td>\n",
       "      <td>0</td>\n",
       "      <td>28</td>\n",
       "      <td>1</td>\n",
       "      <td>0</td>\n",
       "    </tr>\n",
       "    <tr>\n",
       "      <th>0</th>\n",
       "      <td>EP_COPPER_PLATE</td>\n",
       "      <td>605201</td>\n",
       "      <td>601629</td>\n",
       "      <td>549980</td>\n",
       "      <td>1142</td>\n",
       "      <td>474091</td>\n",
       "      <td>1102</td>\n",
       "      <td>209629</td>\n",
       "      <td>159</td>\n",
       "      <td>89120</td>\n",
       "      <td>158</td>\n",
       "      <td>37</td>\n",
       "      <td>2191</td>\n",
       "      <td>18</td>\n",
       "      <td>4</td>\n",
       "    </tr>\n",
       "    <tr>\n",
       "      <th>0</th>\n",
       "      <td>FIELD_RING</td>\n",
       "      <td>1040911</td>\n",
       "      <td>1026587</td>\n",
       "      <td>873411</td>\n",
       "      <td>1826</td>\n",
       "      <td>769544</td>\n",
       "      <td>1777</td>\n",
       "      <td>269231</td>\n",
       "      <td>264</td>\n",
       "      <td>125696</td>\n",
       "      <td>264</td>\n",
       "      <td>45</td>\n",
       "      <td>2916</td>\n",
       "      <td>21</td>\n",
       "      <td>5</td>\n",
       "    </tr>\n",
       "    <tr>\n",
       "      <th>0</th>\n",
       "      <td>GATE_RING</td>\n",
       "      <td>109300</td>\n",
       "      <td>102846</td>\n",
       "      <td>88684</td>\n",
       "      <td>219</td>\n",
       "      <td>77974</td>\n",
       "      <td>212</td>\n",
       "      <td>28329</td>\n",
       "      <td>30</td>\n",
       "      <td>13748</td>\n",
       "      <td>30</td>\n",
       "      <td>4</td>\n",
       "      <td>230</td>\n",
       "      <td>2</td>\n",
       "      <td>0</td>\n",
       "    </tr>\n",
       "    <tr>\n",
       "      <th>0</th>\n",
       "      <td>HDPE_TUBE</td>\n",
       "      <td>71352</td>\n",
       "      <td>70696</td>\n",
       "      <td>61806</td>\n",
       "      <td>152</td>\n",
       "      <td>54694</td>\n",
       "      <td>148</td>\n",
       "      <td>20842</td>\n",
       "      <td>15</td>\n",
       "      <td>9567</td>\n",
       "      <td>15</td>\n",
       "      <td>3</td>\n",
       "      <td>242</td>\n",
       "      <td>0</td>\n",
       "      <td>0</td>\n",
       "    </tr>\n",
       "    <tr>\n",
       "      <th>0</th>\n",
       "      <td>ICS</td>\n",
       "      <td>648308</td>\n",
       "      <td>641327</td>\n",
       "      <td>572087</td>\n",
       "      <td>1282</td>\n",
       "      <td>510700</td>\n",
       "      <td>1248</td>\n",
       "      <td>212719</td>\n",
       "      <td>208</td>\n",
       "      <td>94835</td>\n",
       "      <td>207</td>\n",
       "      <td>29</td>\n",
       "      <td>2058</td>\n",
       "      <td>15</td>\n",
       "      <td>1</td>\n",
       "    </tr>\n",
       "    <tr>\n",
       "      <th>0</th>\n",
       "      <td>LIGHT_TUBE</td>\n",
       "      <td>117142</td>\n",
       "      <td>114022</td>\n",
       "      <td>80655</td>\n",
       "      <td>213</td>\n",
       "      <td>64123</td>\n",
       "      <td>189</td>\n",
       "      <td>20306</td>\n",
       "      <td>22</td>\n",
       "      <td>9673</td>\n",
       "      <td>22</td>\n",
       "      <td>3</td>\n",
       "      <td>236</td>\n",
       "      <td>2</td>\n",
       "      <td>2</td>\n",
       "    </tr>\n",
       "    <tr>\n",
       "      <th>0</th>\n",
       "      <td>OPTICAL_PAD</td>\n",
       "      <td>112299</td>\n",
       "      <td>111576</td>\n",
       "      <td>101545</td>\n",
       "      <td>246</td>\n",
       "      <td>86155</td>\n",
       "      <td>237</td>\n",
       "      <td>36057</td>\n",
       "      <td>41</td>\n",
       "      <td>16261</td>\n",
       "      <td>41</td>\n",
       "      <td>6</td>\n",
       "      <td>423</td>\n",
       "      <td>3</td>\n",
       "      <td>1</td>\n",
       "    </tr>\n",
       "    <tr>\n",
       "      <th>0</th>\n",
       "      <td>PEDESTAL</td>\n",
       "      <td>4252</td>\n",
       "      <td>4199</td>\n",
       "      <td>3842</td>\n",
       "      <td>10</td>\n",
       "      <td>3446</td>\n",
       "      <td>10</td>\n",
       "      <td>1573</td>\n",
       "      <td>1</td>\n",
       "      <td>682</td>\n",
       "      <td>1</td>\n",
       "      <td>0</td>\n",
       "      <td>9</td>\n",
       "      <td>0</td>\n",
       "      <td>0</td>\n",
       "    </tr>\n",
       "    <tr>\n",
       "      <th>0</th>\n",
       "      <td>PMT</td>\n",
       "      <td>217761</td>\n",
       "      <td>216275</td>\n",
       "      <td>196862</td>\n",
       "      <td>462</td>\n",
       "      <td>168591</td>\n",
       "      <td>442</td>\n",
       "      <td>72105</td>\n",
       "      <td>64</td>\n",
       "      <td>31511</td>\n",
       "      <td>64</td>\n",
       "      <td>13</td>\n",
       "      <td>828</td>\n",
       "      <td>5</td>\n",
       "      <td>1</td>\n",
       "    </tr>\n",
       "    <tr>\n",
       "      <th>0</th>\n",
       "      <td>PMT_BASE</td>\n",
       "      <td>114856</td>\n",
       "      <td>113901</td>\n",
       "      <td>105294</td>\n",
       "      <td>235</td>\n",
       "      <td>93842</td>\n",
       "      <td>228</td>\n",
       "      <td>42550</td>\n",
       "      <td>40</td>\n",
       "      <td>18808</td>\n",
       "      <td>40</td>\n",
       "      <td>4</td>\n",
       "      <td>449</td>\n",
       "      <td>4</td>\n",
       "      <td>1</td>\n",
       "    </tr>\n",
       "    <tr>\n",
       "      <th>0</th>\n",
       "      <td>SAPPHIRE_WINDOW</td>\n",
       "      <td>132235</td>\n",
       "      <td>131388</td>\n",
       "      <td>119527</td>\n",
       "      <td>268</td>\n",
       "      <td>101725</td>\n",
       "      <td>255</td>\n",
       "      <td>42570</td>\n",
       "      <td>50</td>\n",
       "      <td>18812</td>\n",
       "      <td>50</td>\n",
       "      <td>3</td>\n",
       "      <td>500</td>\n",
       "      <td>3</td>\n",
       "      <td>0</td>\n",
       "    </tr>\n",
       "    <tr>\n",
       "      <th>0</th>\n",
       "      <td>SHIELDING_LEAD</td>\n",
       "      <td>76449</td>\n",
       "      <td>75637</td>\n",
       "      <td>69568</td>\n",
       "      <td>130</td>\n",
       "      <td>62424</td>\n",
       "      <td>129</td>\n",
       "      <td>28061</td>\n",
       "      <td>19</td>\n",
       "      <td>12145</td>\n",
       "      <td>19</td>\n",
       "      <td>2</td>\n",
       "      <td>253</td>\n",
       "      <td>2</td>\n",
       "      <td>0</td>\n",
       "    </tr>\n",
       "    <tr>\n",
       "      <th>0</th>\n",
       "      <td>SHIELDING_STEEL</td>\n",
       "      <td>4474</td>\n",
       "      <td>4436</td>\n",
       "      <td>4072</td>\n",
       "      <td>7</td>\n",
       "      <td>3639</td>\n",
       "      <td>7</td>\n",
       "      <td>1618</td>\n",
       "      <td>0</td>\n",
       "      <td>702</td>\n",
       "      <td>0</td>\n",
       "      <td>0</td>\n",
       "      <td>11</td>\n",
       "      <td>0</td>\n",
       "      <td>0</td>\n",
       "    </tr>\n",
       "    <tr>\n",
       "      <th>0</th>\n",
       "      <td>SHIELDING_STRUCT</td>\n",
       "      <td>4469</td>\n",
       "      <td>4427</td>\n",
       "      <td>4087</td>\n",
       "      <td>9</td>\n",
       "      <td>3516</td>\n",
       "      <td>9</td>\n",
       "      <td>1529</td>\n",
       "      <td>1</td>\n",
       "      <td>656</td>\n",
       "      <td>1</td>\n",
       "      <td>1</td>\n",
       "      <td>10</td>\n",
       "      <td>0</td>\n",
       "      <td>0</td>\n",
       "    </tr>\n",
       "    <tr>\n",
       "      <th>0</th>\n",
       "      <td>SIPM_BOARD</td>\n",
       "      <td>923343</td>\n",
       "      <td>764229</td>\n",
       "      <td>695380</td>\n",
       "      <td>1642</td>\n",
       "      <td>626889</td>\n",
       "      <td>1581</td>\n",
       "      <td>210737</td>\n",
       "      <td>239</td>\n",
       "      <td>105374</td>\n",
       "      <td>239</td>\n",
       "      <td>34</td>\n",
       "      <td>1879</td>\n",
       "      <td>10</td>\n",
       "      <td>1</td>\n",
       "    </tr>\n",
       "    <tr>\n",
       "      <th>0</th>\n",
       "      <td>TP_COPPER_PLATE</td>\n",
       "      <td>785945</td>\n",
       "      <td>754088</td>\n",
       "      <td>689282</td>\n",
       "      <td>1475</td>\n",
       "      <td>626071</td>\n",
       "      <td>1431</td>\n",
       "      <td>246044</td>\n",
       "      <td>236</td>\n",
       "      <td>115352</td>\n",
       "      <td>235</td>\n",
       "      <td>45</td>\n",
       "      <td>2036</td>\n",
       "      <td>15</td>\n",
       "      <td>4</td>\n",
       "    </tr>\n",
       "    <tr>\n",
       "      <th>0</th>\n",
       "      <td>VESSEL</td>\n",
       "      <td>275430</td>\n",
       "      <td>272758</td>\n",
       "      <td>250139</td>\n",
       "      <td>564</td>\n",
       "      <td>223084</td>\n",
       "      <td>549</td>\n",
       "      <td>99927</td>\n",
       "      <td>95</td>\n",
       "      <td>43073</td>\n",
       "      <td>95</td>\n",
       "      <td>16</td>\n",
       "      <td>962</td>\n",
       "      <td>5</td>\n",
       "      <td>2</td>\n",
       "    </tr>\n",
       "  </tbody>\n",
       "</table>\n",
       "</div>"
      ],
      "text/plain": [
       "                vol    nexus     reco    ener  ener_roi     fid  fid_roi  \\\n",
       "0        ANODE_RING   102901    96871   85534       178   75567      174   \n",
       "0      CATHODE_RING   119235   118001   97600       212   79451      199   \n",
       "0           DB_PLUG    10053     9801    9026        13    8246       12   \n",
       "0   EP_COPPER_PLATE   605201   601629  549980      1142  474091     1102   \n",
       "0        FIELD_RING  1040911  1026587  873411      1826  769544     1777   \n",
       "0         GATE_RING   109300   102846   88684       219   77974      212   \n",
       "0         HDPE_TUBE    71352    70696   61806       152   54694      148   \n",
       "0               ICS   648308   641327  572087      1282  510700     1248   \n",
       "0        LIGHT_TUBE   117142   114022   80655       213   64123      189   \n",
       "0       OPTICAL_PAD   112299   111576  101545       246   86155      237   \n",
       "0          PEDESTAL     4252     4199    3842        10    3446       10   \n",
       "0               PMT   217761   216275  196862       462  168591      442   \n",
       "0          PMT_BASE   114856   113901  105294       235   93842      228   \n",
       "0   SAPPHIRE_WINDOW   132235   131388  119527       268  101725      255   \n",
       "0    SHIELDING_LEAD    76449    75637   69568       130   62424      129   \n",
       "0   SHIELDING_STEEL     4474     4436    4072         7    3639        7   \n",
       "0  SHIELDING_STRUCT     4469     4427    4087         9    3516        9   \n",
       "0        SIPM_BOARD   923343   764229  695380      1642  626889     1581   \n",
       "0   TP_COPPER_PLATE   785945   754088  689282      1475  626071     1431   \n",
       "0            VESSEL   275430   272758  250139       564  223084      549   \n",
       "\n",
       "    track  track_roi     ovl  ovl_roi  roi  topo  topo_roi  topo_roi_full  \n",
       "0   28063         30   13497       29    4   275         2              0  \n",
       "0   29821         43   13386       43    5   320         4              2  \n",
       "0    3617          2    1553        2    0    28         1              0  \n",
       "0  209629        159   89120      158   37  2191        18              4  \n",
       "0  269231        264  125696      264   45  2916        21              5  \n",
       "0   28329         30   13748       30    4   230         2              0  \n",
       "0   20842         15    9567       15    3   242         0              0  \n",
       "0  212719        208   94835      207   29  2058        15              1  \n",
       "0   20306         22    9673       22    3   236         2              2  \n",
       "0   36057         41   16261       41    6   423         3              1  \n",
       "0    1573          1     682        1    0     9         0              0  \n",
       "0   72105         64   31511       64   13   828         5              1  \n",
       "0   42550         40   18808       40    4   449         4              1  \n",
       "0   42570         50   18812       50    3   500         3              0  \n",
       "0   28061         19   12145       19    2   253         2              0  \n",
       "0    1618          0     702        0    0    11         0              0  \n",
       "0    1529          1     656        1    1    10         0              0  \n",
       "0  210737        239  105374      239   34  1879        10              1  \n",
       "0  246044        236  115352      235   45  2036        15              4  \n",
       "0   99927         95   43073       95   16   962         5              2  "
      ]
     },
     "execution_count": 46,
     "metadata": {},
     "output_type": "execute_result"
    }
   ],
   "source": [
    "get_tracks_info('214Bi', 'selection_rates') "
   ]
  },
  {
   "cell_type": "code",
   "execution_count": 197,
   "metadata": {},
   "outputs": [],
   "source": [
    "def get_tracks_info(isotope, group):#, nbins, xrange, density = False):\n",
    "    paths = sorted(glob('/mnt/lustre/scratch/nlsas/home/usc/ie/mpm/NEXT100/data/full_prod/{}/prod/volumes/*/tracks_info.h5'.format(isotope)))\n",
    "    df = pd.DataFrame([])    \n",
    "    for p in paths:\n",
    "        df_ = pd.read_hdf(p, group)\n",
    "        df = df.append(df_)\n",
    "    return df"
   ]
  },
  {
   "cell_type": "code",
   "execution_count": 61,
   "metadata": {},
   "outputs": [],
   "source": [
    "mcene = get_tracks_info('214Bi', 'MCEner') \n",
    "reene = get_tracks_info('214Bi', 'RecoEner') \n",
    "reenefid = get_tracks_info('214Bi', 'RecoEnerFid') \n",
    "numtr = get_tracks_info('214Bi', 'NumTracks') \n",
    "eneb2 = get_tracks_info('214Bi', 'EneBlob2') "
   ]
  },
  {
   "cell_type": "code",
   "execution_count": 65,
   "metadata": {},
   "outputs": [
    {
     "data": {
      "text/plain": [
       "(5475916, 5234694, 4113772, 4113772, 734451)"
      ]
     },
     "execution_count": 65,
     "metadata": {},
     "output_type": "execute_result"
    }
   ],
   "source": [
    "len(mcene), len(reene), len(reenefid), len(numtr), len(eneb2)"
   ]
  },
  {
   "cell_type": "code",
   "execution_count": 63,
   "metadata": {},
   "outputs": [
    {
     "data": {
      "text/plain": [
       "nexus            5475916\n",
       "reco             5234694\n",
       "ener             4658381\n",
       "ener_roi           10285\n",
       "fid              4113772\n",
       "fid_roi             9939\n",
       "track            1605328\n",
       "track_roi           1559\n",
       "ovl               734451\n",
       "ovl_roi             1555\n",
       "roi                  254\n",
       "topo               15856\n",
       "topo_roi             112\n",
       "topo_roi_full         24\n",
       "dtype: int64"
      ]
     },
     "execution_count": 63,
     "metadata": {},
     "output_type": "execute_result"
    }
   ],
   "source": [
    "get_tracks_info('214Bi', 'selection_rates').drop('vol', axis = 1).sum()"
   ]
  },
  {
   "cell_type": "code",
   "execution_count": 198,
   "metadata": {},
   "outputs": [],
   "source": [
    "nbins = 300\n",
    "xrange = (0.8, 4.55) #(2.4, 2.5) #"
   ]
  },
  {
   "cell_type": "code",
   "execution_count": 199,
   "metadata": {},
   "outputs": [
    {
     "data": {
      "text/plain": [
       "<matplotlib.legend.Legend at 0x14f89d1c67d0>"
      ]
     },
     "execution_count": 199,
     "metadata": {},
     "output_type": "execute_result"
    },
    {
     "data": {
      "image/png": "[encoded data removed]",
      "text/plain": [
       "<Figure size 864x504 with 1 Axes>"
      ]
     },
     "metadata": {
      "needs_background": "light"
     },
     "output_type": "display_data"
    }
   ],
   "source": [
    "edges = np.linspace(xrange[0], xrange[1], nbins + 1)\n",
    "bincentres = [(edges[i]+edges[i+1])/2. for i in range(len(edges)-1)]\n",
    "\n",
    "ene_hist, ene_bin = np.histogram(mcene[mcene.energy > 0.8].energy, nbins, range = xrange, density = True)\n",
    "\n",
    "plt.figure(figsize=(12, 7))\n",
    "plt.step(bincentres, ene_hist, where = 'mid', label = '214Bi')\n",
    "\n",
    "\n",
    "plt.yscale('log')\n",
    "plt.xlabel('Energy (MeV)')\n",
    "plt.ylabel(r'pdf (MeV$^{-1}$)')\n",
    "plt.title('MC energy')\n",
    "plt.xlim(xrange)\n",
    "plt.legend()"
   ]
  },
  {
   "cell_type": "code",
   "execution_count": 200,
   "metadata": {},
   "outputs": [
    {
     "data": {
      "text/plain": [
       "<matplotlib.legend.Legend at 0x14f89c7566d0>"
      ]
     },
     "execution_count": 200,
     "metadata": {},
     "output_type": "execute_result"
    },
    {
     "data": {
      "image/png": "[encoded data removed]",
      "text/plain": [
       "<Figure size 864x504 with 1 Axes>"
      ]
     },
     "metadata": {
      "needs_background": "light"
     },
     "output_type": "display_data"
    }
   ],
   "source": [
    "edges = np.linspace(xrange[0], xrange[1], nbins + 1)\n",
    "bincentres = [(edges[i]+edges[i+1])/2. for i in range(len(edges)-1)]\n",
    "\n",
    "ene_hist, ene_bin = np.histogram(reene[reene.energy > 0.8].energy, nbins, range = xrange, density = True)\n",
    "\n",
    "plt.figure(figsize=(12, 7))\n",
    "plt.step(bincentres, ene_hist, where = 'mid', label = '214Bi')\n",
    "\n",
    "\n",
    "plt.yscale('log')\n",
    "plt.xlabel('Energy (MeV)')\n",
    "plt.ylabel(r'pdf (MeV$^{-1}$)')\n",
    "plt.title('RECO energy')\n",
    "plt.xlim(xrange)\n",
    "plt.legend()"
   ]
  },
  {
   "cell_type": "code",
   "execution_count": 201,
   "metadata": {},
   "outputs": [
    {
     "data": {
      "text/plain": [
       "<matplotlib.legend.Legend at 0x14f89c5b4690>"
      ]
     },
     "execution_count": 201,
     "metadata": {},
     "output_type": "execute_result"
    },
    {
     "data": {
      "image/png": "[encoded data removed]",
      "text/plain": [
       "<Figure size 864x504 with 1 Axes>"
      ]
     },
     "metadata": {
      "needs_background": "light"
     },
     "output_type": "display_data"
    }
   ],
   "source": [
    "nbins = 300\n",
    "xrange = (0.8, 4.55)\n",
    "edges = np.linspace(xrange[0], xrange[1], nbins + 1)\n",
    "bincentres = [(edges[i]+edges[i+1])/2. for i in range(len(edges)-1)]\n",
    "\n",
    "plt.figure(figsize=(12, 7))\n",
    "ene_hist, ene_bin = np.histogram(reene[reene.energy > 0.8].energy, nbins, range = xrange, density = True)\n",
    "plt.step(bincentres, ene_hist, where = 'mid', label = '214Bi total')\n",
    "ene_hist, ene_bin = np.histogram(reenefid[reenefid.energy > 0.8].energy, nbins, range = xrange, density = True)\n",
    "plt.step(bincentres, ene_hist, where = 'mid', label = '214Bi fiducial')\n",
    "\n",
    "plt.yscale('log')\n",
    "plt.xlabel('Energy (MeV)')\n",
    "plt.ylabel(r'pdf (MeV$^{-1}$)')\n",
    "plt.title('RECO energy fid')\n",
    "plt.xlim(xrange)\n",
    "plt.legend()"
   ]
  },
  {
   "cell_type": "code",
   "execution_count": 202,
   "metadata": {},
   "outputs": [
    {
     "data": {
      "text/plain": [
       "<matplotlib.legend.Legend at 0x14f89c2bdb50>"
      ]
     },
     "execution_count": 202,
     "metadata": {},
     "output_type": "execute_result"
    },
    {
     "data": {
      "image/png": "[encoded data removed]",
      "text/plain": [
       "<Figure size 864x504 with 1 Axes>"
      ]
     },
     "metadata": {
      "needs_background": "light"
     },
     "output_type": "display_data"
    }
   ],
   "source": [
    "nbins = 100\n",
    "xrange = (0, eneb2.eblob2.max())\n",
    "\n",
    "edges = np.linspace(xrange[0], xrange[1], nbins + 1)\n",
    "bincentres = [(edges[i]+edges[i+1])/2. for i in range(len(edges)-1)]\n",
    "\n",
    "ene_hist, ene_bin = np.histogram(eneb2.eblob2, nbins, range = xrange, density = True)\n",
    "\n",
    "plt.figure(figsize=(12, 7))\n",
    "plt.step(bincentres, ene_hist, where = 'mid', label = '214Bi')\n",
    "\n",
    "\n",
    "plt.xlabel('Energy (MeV)')\n",
    "plt.ylabel(r'pdf (MeV$^{-1}$)')\n",
    "plt.title('Eblob2 energy')\n",
    "plt.xlim(xrange)\n",
    "plt.legend()"
   ]
  },
  {
   "cell_type": "code",
   "execution_count": 203,
   "metadata": {},
   "outputs": [
    {
     "data": {
      "text/plain": [
       "<matplotlib.legend.Legend at 0x14f89c287dd0>"
      ]
     },
     "execution_count": 203,
     "metadata": {},
     "output_type": "execute_result"
    },
    {
     "data": {
      "image/png": "[encoded data removed]",
      "text/plain": [
       "<Figure size 432x288 with 1 Axes>"
      ]
     },
     "metadata": {
      "needs_background": "light"
     },
     "output_type": "display_data"
    }
   ],
   "source": [
    "nbins = numtr.numb_of_tracks.max()\n",
    "xrange = (0, numtr.numb_of_tracks.max())\n",
    "tr_hist, tr_bin = np.histogram(numtr.numb_of_tracks, range = xrange, bins = nbins) \n",
    "plt.bar(tr_bin[1:-1], tr_hist[1:]/ len(numtr), fill = False, label = '214Bi')\n",
    "\n",
    "plt.xlabel('# of tracks')\n",
    "plt.ylabel('Event ratio')\n",
    "plt.title('Track multiplicity')\n",
    "plt.xticks(tr_bin[1:-1])\n",
    "plt.legend()"
   ]
  },
  {
   "cell_type": "code",
   "execution_count": null,
   "metadata": {},
   "outputs": [],
   "source": []
  },
  {
   "cell_type": "code",
   "execution_count": 7,
   "metadata": {},
   "outputs": [],
   "source": [
    "fileout = base_dir[:-2] + 'bkg_rates_selection.h5'\n",
    "# with tb.open_file(fileout, 'a') as h5out:\n",
    "#     dio.df_writer(h5out, final_df  , isotope, 'selection_rates')"
   ]
  },
  {
   "cell_type": "code",
   "execution_count": 8,
   "metadata": {},
   "outputs": [],
   "source": [
    "#vol = vol_path.split('/')[-2]\n",
    "#     print(vol)\n",
    "#     isaura_files = len(glob(vol_path + 'prod/detsim/*'))"
   ]
  },
  {
   "cell_type": "code",
   "execution_count": 9,
   "metadata": {},
   "outputs": [],
   "source": [
    "st_path = '/mnt/lustre/scratch/nlsas//home/usc/ie/mpm/NEXT100/data/full_prod/{}/prod/volumes/event_stats.txt'.format(isotope)\n",
    "with open(st_path, 'r') as f:\n",
    "    text = f.readlines()\n",
    "    f.close()"
   ]
  },
  {
   "cell_type": "code",
   "execution_count": 10,
   "metadata": {},
   "outputs": [
    {
     "data": {
      "text/plain": [
       "14108993103"
      ]
     },
     "execution_count": 10,
     "metadata": {},
     "output_type": "execute_result"
    }
   ],
   "source": [
    "sum([int(t.split(' ')[1]) * int(t.split(' ')[-2]) for t in text])"
   ]
  },
  {
   "cell_type": "code",
   "execution_count": 11,
   "metadata": {},
   "outputs": [
    {
     "data": {
      "text/plain": [
       "14108993103"
      ]
     },
     "execution_count": 11,
     "metadata": {},
     "output_type": "execute_result"
    }
   ],
   "source": [
    "sum([int(t.split(' ')[1]) * int(t.split(' ')[-2]) for t in text])"
   ]
  },
  {
   "cell_type": "code",
   "execution_count": 12,
   "metadata": {},
   "outputs": [
    {
     "name": "stdout",
     "output_type": "stream",
     "text": [
      "Total sim events\n"
     ]
    },
    {
     "data": {
      "text/plain": [
       "16275995277"
      ]
     },
     "execution_count": 12,
     "metadata": {},
     "output_type": "execute_result"
    }
   ],
   "source": [
    "\n",
    "print('Total sim events')\n",
    "14108993103 + 2167002174"
   ]
  },
  {
   "cell_type": "code",
   "execution_count": 2,
   "metadata": {},
   "outputs": [],
   "source": [
    "def read_act_and_sim(isotope, \n",
    "                     act_path = '/home/usc/ie/mpm/NEXT100-0nubb-analysis/nexus_job_templates/ft3/backgrounds/activities_efficiencies{}.ods',\n",
    "                     st_path = '/mnt/lustre/scratch/nlsas//home/usc/ie/mpm/NEXT100/data/full_prod/{}/prod/volumes/event_stats.txt',\n",
    "                     vol_path = '/mnt/lustre/scratch/nlsas//home/usc/ie/mpm/NEXT100/data/full_prod/{}/prod/volumes/{}/', \n",
    "                     act_version = ''):\n",
    "    st_path = st_path.format(isotope)\n",
    "\n",
    "    year = (3600 * 24 * 365) / 1000\n",
    "\n",
    "    activities = dict(pd.read_excel(act_path.format(act_version), sheet_name=isotope, engine='odf').set_index(\"G4Volume\").TotalActivity)\n",
    "\n",
    "    with open(st_path, 'r') as f:\n",
    "        text = f.readlines()\n",
    "        f.close()\n",
    "    sim_evs = {t.split(' ')[-4].split('/')[-1]:int(t.split(' ')[-2])*int(t.split(' ')[1]) for t in text}\n",
    "    sim_evs_red = {t.split(' ')[-4].split('/')[-1]:int(t.split(' ')[-2])*len(glob(vol_path.format(isotope, t.split(' ')[-4].split('/')[-1]) + 'prod/hypathia/*')) for t in text}\n",
    "    activities = {k: activities[k] for k in sorted(activities)}\n",
    "    sim_evs = {k: sim_evs[k] for k in sorted(sim_evs)}\n",
    "    sim_evs_red = {k: sim_evs_red[k] for k in sorted(sim_evs_red)}\n",
    "\n",
    "    act = pd.DataFrame([activities]).T.reset_index().rename(columns = {'index': 'vol', 0:'activities'})\n",
    "    sim = pd.DataFrame([sim_evs]).T.reset_index().rename(columns = {'index': 'vol', 0:'sim'})\n",
    "    sim_red = pd.DataFrame([sim_evs_red]).T.reset_index().rename(columns = {'index': 'vol', 0:'sim_red'})\n",
    "    sim_act = act.merge(sim, on = 'vol')\n",
    "    sim_act = sim_act.merge(sim_red, on = 'vol')\n",
    "    sim_act['exposure'] = sim_act.sim / (sim_act.activities * year)\n",
    "    sim_act['reduced_exp'] = sim_act.sim_red / (sim_act.activities * year)\n",
    "    \n",
    "    return sim_act"
   ]
  },
  {
   "cell_type": "code",
   "execution_count": 4,
   "metadata": {},
   "outputs": [
    {
     "data": {
      "text/html": [
       "<div>\n",
       "<style scoped>\n",
       "    .dataframe tbody tr th:only-of-type {\n",
       "        vertical-align: middle;\n",
       "    }\n",
       "\n",
       "    .dataframe tbody tr th {\n",
       "        vertical-align: top;\n",
       "    }\n",
       "\n",
       "    .dataframe thead th {\n",
       "        text-align: right;\n",
       "    }\n",
       "</style>\n",
       "<table border=\"1\" class=\"dataframe\">\n",
       "  <thead>\n",
       "    <tr style=\"text-align: right;\">\n",
       "      <th></th>\n",
       "      <th>vol</th>\n",
       "      <th>activities</th>\n",
       "      <th>sim</th>\n",
       "      <th>sim_red</th>\n",
       "      <th>exposure</th>\n",
       "      <th>reduced_exp</th>\n",
       "    </tr>\n",
       "  </thead>\n",
       "  <tbody>\n",
       "    <tr>\n",
       "      <th>0</th>\n",
       "      <td>ANODE_RING</td>\n",
       "      <td>1.176242</td>\n",
       "      <td>6127152</td>\n",
       "      <td>6127152</td>\n",
       "      <td>165.179246</td>\n",
       "      <td>165.179246</td>\n",
       "    </tr>\n",
       "    <tr>\n",
       "      <th>1</th>\n",
       "      <td>CATHODE_RING</td>\n",
       "      <td>1.141094</td>\n",
       "      <td>5872545</td>\n",
       "      <td>5872545</td>\n",
       "      <td>163.191733</td>\n",
       "      <td>163.191733</td>\n",
       "    </tr>\n",
       "    <tr>\n",
       "      <th>2</th>\n",
       "      <td>DB_PLUG</td>\n",
       "      <td>155.120000</td>\n",
       "      <td>199920050</td>\n",
       "      <td>199920050</td>\n",
       "      <td>40.867865</td>\n",
       "      <td>40.867865</td>\n",
       "    </tr>\n",
       "    <tr>\n",
       "      <th>3</th>\n",
       "      <td>EP_COPPER_PLATE</td>\n",
       "      <td>82.021879</td>\n",
       "      <td>386100000</td>\n",
       "      <td>386100000</td>\n",
       "      <td>149.266889</td>\n",
       "      <td>149.266889</td>\n",
       "    </tr>\n",
       "    <tr>\n",
       "      <th>4</th>\n",
       "      <td>FIELD_RING</td>\n",
       "      <td>27.962356</td>\n",
       "      <td>40409712</td>\n",
       "      <td>40409712</td>\n",
       "      <td>45.825308</td>\n",
       "      <td>45.825308</td>\n",
       "    </tr>\n",
       "    <tr>\n",
       "      <th>5</th>\n",
       "      <td>GATE_RING</td>\n",
       "      <td>1.176124</td>\n",
       "      <td>6096272</td>\n",
       "      <td>6096272</td>\n",
       "      <td>164.363228</td>\n",
       "      <td>164.363228</td>\n",
       "    </tr>\n",
       "    <tr>\n",
       "      <th>6</th>\n",
       "      <td>HDPE_TUBE</td>\n",
       "      <td>3.070860</td>\n",
       "      <td>3938760</td>\n",
       "      <td>3938760</td>\n",
       "      <td>40.671753</td>\n",
       "      <td>40.671753</td>\n",
       "    </tr>\n",
       "    <tr>\n",
       "      <th>7</th>\n",
       "      <td>ICS</td>\n",
       "      <td>53.015926</td>\n",
       "      <td>236432040</td>\n",
       "      <td>236432040</td>\n",
       "      <td>141.414314</td>\n",
       "      <td>141.414314</td>\n",
       "    </tr>\n",
       "    <tr>\n",
       "      <th>8</th>\n",
       "      <td>LIGHT_TUBE</td>\n",
       "      <td>3.545623</td>\n",
       "      <td>2517076</td>\n",
       "      <td>2517076</td>\n",
       "      <td>22.511125</td>\n",
       "      <td>22.511125</td>\n",
       "    </tr>\n",
       "    <tr>\n",
       "      <th>9</th>\n",
       "      <td>OPTICAL_PAD</td>\n",
       "      <td>7.920000</td>\n",
       "      <td>10165771</td>\n",
       "      <td>10165771</td>\n",
       "      <td>40.701324</td>\n",
       "      <td>40.701324</td>\n",
       "    </tr>\n",
       "    <tr>\n",
       "      <th>10</th>\n",
       "      <td>PEDESTAL</td>\n",
       "      <td>358.080000</td>\n",
       "      <td>550000000</td>\n",
       "      <td>550000000</td>\n",
       "      <td>48.705277</td>\n",
       "      <td>48.705277</td>\n",
       "    </tr>\n",
       "    <tr>\n",
       "      <th>11</th>\n",
       "      <td>PMT</td>\n",
       "      <td>21.000000</td>\n",
       "      <td>26509875</td>\n",
       "      <td>26509875</td>\n",
       "      <td>40.029649</td>\n",
       "      <td>40.029649</td>\n",
       "    </tr>\n",
       "    <tr>\n",
       "      <th>12</th>\n",
       "      <td>PMT_BASE</td>\n",
       "      <td>40.920000</td>\n",
       "      <td>53200000</td>\n",
       "      <td>53200000</td>\n",
       "      <td>41.225829</td>\n",
       "      <td>41.225829</td>\n",
       "    </tr>\n",
       "    <tr>\n",
       "      <th>13</th>\n",
       "      <td>SAPPHIRE_WINDOW</td>\n",
       "      <td>66.000829</td>\n",
       "      <td>11256512</td>\n",
       "      <td>11256512</td>\n",
       "      <td>5.408139</td>\n",
       "      <td>5.408139</td>\n",
       "    </tr>\n",
       "    <tr>\n",
       "      <th>14</th>\n",
       "      <td>SHIELDING_LEAD</td>\n",
       "      <td>5321.130000</td>\n",
       "      <td>6720000000</td>\n",
       "      <td>6720000000</td>\n",
       "      <td>40.045968</td>\n",
       "      <td>40.045968</td>\n",
       "    </tr>\n",
       "    <tr>\n",
       "      <th>15</th>\n",
       "      <td>SHIELDING_STEEL</td>\n",
       "      <td>20.250000</td>\n",
       "      <td>110000000</td>\n",
       "      <td>110000000</td>\n",
       "      <td>172.250722</td>\n",
       "      <td>172.250722</td>\n",
       "    </tr>\n",
       "    <tr>\n",
       "      <th>16</th>\n",
       "      <td>SHIELDING_STRUCT</td>\n",
       "      <td>502.800000</td>\n",
       "      <td>1090000000</td>\n",
       "      <td>1090000000</td>\n",
       "      <td>68.742389</td>\n",
       "      <td>68.742389</td>\n",
       "    </tr>\n",
       "    <tr>\n",
       "      <th>17</th>\n",
       "      <td>SIPM_BOARD</td>\n",
       "      <td>35.635891</td>\n",
       "      <td>27535002</td>\n",
       "      <td>27535002</td>\n",
       "      <td>24.501399</td>\n",
       "      <td>24.501399</td>\n",
       "    </tr>\n",
       "    <tr>\n",
       "      <th>18</th>\n",
       "      <td>TP_COPPER_PLATE</td>\n",
       "      <td>2.280815</td>\n",
       "      <td>308141400</td>\n",
       "      <td>308141400</td>\n",
       "      <td>4284.039034</td>\n",
       "      <td>4284.039034</td>\n",
       "    </tr>\n",
       "    <tr>\n",
       "      <th>19</th>\n",
       "      <td>VESSEL</td>\n",
       "      <td>3422.540000</td>\n",
       "      <td>4314770936</td>\n",
       "      <td>4314770936</td>\n",
       "      <td>39.976301</td>\n",
       "      <td>39.976301</td>\n",
       "    </tr>\n",
       "  </tbody>\n",
       "</table>\n",
       "</div>"
      ],
      "text/plain": [
       "                 vol   activities         sim     sim_red     exposure  \\\n",
       "0         ANODE_RING     1.176242     6127152     6127152   165.179246   \n",
       "1       CATHODE_RING     1.141094     5872545     5872545   163.191733   \n",
       "2            DB_PLUG   155.120000   199920050   199920050    40.867865   \n",
       "3    EP_COPPER_PLATE    82.021879   386100000   386100000   149.266889   \n",
       "4         FIELD_RING    27.962356    40409712    40409712    45.825308   \n",
       "5          GATE_RING     1.176124     6096272     6096272   164.363228   \n",
       "6          HDPE_TUBE     3.070860     3938760     3938760    40.671753   \n",
       "7                ICS    53.015926   236432040   236432040   141.414314   \n",
       "8         LIGHT_TUBE     3.545623     2517076     2517076    22.511125   \n",
       "9        OPTICAL_PAD     7.920000    10165771    10165771    40.701324   \n",
       "10          PEDESTAL   358.080000   550000000   550000000    48.705277   \n",
       "11               PMT    21.000000    26509875    26509875    40.029649   \n",
       "12          PMT_BASE    40.920000    53200000    53200000    41.225829   \n",
       "13   SAPPHIRE_WINDOW    66.000829    11256512    11256512     5.408139   \n",
       "14    SHIELDING_LEAD  5321.130000  6720000000  6720000000    40.045968   \n",
       "15   SHIELDING_STEEL    20.250000   110000000   110000000   172.250722   \n",
       "16  SHIELDING_STRUCT   502.800000  1090000000  1090000000    68.742389   \n",
       "17        SIPM_BOARD    35.635891    27535002    27535002    24.501399   \n",
       "18   TP_COPPER_PLATE     2.280815   308141400   308141400  4284.039034   \n",
       "19            VESSEL  3422.540000  4314770936  4314770936    39.976301   \n",
       "\n",
       "    reduced_exp  \n",
       "0    165.179246  \n",
       "1    163.191733  \n",
       "2     40.867865  \n",
       "3    149.266889  \n",
       "4     45.825308  \n",
       "5    164.363228  \n",
       "6     40.671753  \n",
       "7    141.414314  \n",
       "8     22.511125  \n",
       "9     40.701324  \n",
       "10    48.705277  \n",
       "11    40.029649  \n",
       "12    41.225829  \n",
       "13     5.408139  \n",
       "14    40.045968  \n",
       "15   172.250722  \n",
       "16    68.742389  \n",
       "17    24.501399  \n",
       "18  4284.039034  \n",
       "19    39.976301  "
      ]
     },
     "execution_count": 4,
     "metadata": {},
     "output_type": "execute_result"
    }
   ],
   "source": [
    "read_act_and_sim('214Bi', act_version='_upd2')"
   ]
  },
  {
   "cell_type": "code",
   "execution_count": 14,
   "metadata": {},
   "outputs": [],
   "source": [
    "def compute_reduced_exposure(sim_act, isotope):\n",
    "    base_dir = os.path.expandvars('$LUSTRE/NEXT100/data/full_prod/{}/prod/volumes/*/'.format(isotope))\n",
    "    vol_paths = sorted(glob(base_dir))\n",
    "    sim_act['evs_fraction'] = [len(glob(v + 'prod/hypathia/*')) / len(glob(v + 'prod/nexus/*')) for v in vol_paths]\n",
    "    sim_act['reduced_exp'] = sim_act.exposure * sim_act.evs_fraction\n",
    "    return sim_act"
   ]
  },
  {
   "attachments": {},
   "cell_type": "markdown",
   "metadata": {},
   "source": [
    "Places where there are any counts after all cuts\n",
    "\n",
    "214Bi: EP_COPPER_PLATE, FIELD_RING, SIPM_BOARD, TP_COPPER_PLATE (4 counts in total, 1 per volume)\n",
    "\n",
    "208Tl: ICS (3 counts in total, all 3 in the ICS)"
   ]
  },
  {
   "attachments": {},
   "cell_type": "markdown",
   "metadata": {},
   "source": [
    "Pienso que la diferencia con Gonzalo puede ser justificada ya que si miro los números finales, las cuentas que quedan son muy pocas (4 y 3 respectivamente para cada), y es muy fácil pues que sea una estadística un poco truski no??"
   ]
  },
  {
   "cell_type": "code",
   "execution_count": 15,
   "metadata": {},
   "outputs": [],
   "source": [
    "def compute_rates(isotope, rates_year = True, type = '', act_version = ''):\n",
    "    base_dir = os.path.expandvars('$LUSTRE/NEXT100/data/full_prod/{}/prod/volumes/*/'.format(isotope))\n",
    "    sim_act = read_act_and_sim(isotope, act_version = act_version)\n",
    "    sim_act = compute_reduced_exposure(sim_act, isotope)\n",
    "    bkg_rates = pd.read_hdf(base_dir[:-2] + 'final_bkg_rates_selection{}.h5'.format(type), 'selection_rates')\n",
    "    #bkg_rates = dio.load_dst(base_dir[:-2] + 'final_bkg_rates_selection{}.h5'.format(type), 'selection_rates')\n",
    "    #ref_bkg_rates = dio.load_dst(base_dir[:-2] + 'ref_bkg_rates_selection{}.h5'.format(type), isotope, 'selection_rates')\n",
    "    if rates_year:\n",
    "        vol_rates = bkg_rates.drop('vol', axis = 1).reset_index(drop=True).div(sim_act.reduced_exp, axis = 0)\n",
    "        #vol_rates = bkg_rates.loc[:, 'nexus':'topo_roi_full'].apply(lambda x: x / sim_act.reduced_exp)\n",
    "        #ref_sum_rates = ref_bkg_rates.loc[:, 'nexus':'topo_roi_full'].apply(lambda x: x / sim_act.reduced_exp).sum()\n",
    "    else:\n",
    "        vol_rates = bkg_rates\n",
    "        #ref_sum_rates = ref_bkg_rates.sum()\n",
    "\n",
    "    return vol_rates#, ref_sum_rates"
   ]
  },
  {
   "cell_type": "code",
   "execution_count": 16,
   "metadata": {},
   "outputs": [],
   "source": [
    "def plot_rates(sum_rates, ref_sum_rates, isotope, ylabel):\n",
    "    plt.figure(figsize=(10, 7))\n",
    "    plt.plot(sum_rates[['nexus', 'reco', 'ener', 'fid', 'track', 'ovl', 'roi', 'topo', 'topo_roi_full']].rename({'topo_roi_full':'topo + roi'}), 'x', markersize = 10, markeredgewidth=2, label = 'E > 0.8 MeV')\n",
    "    plt.plot(sum_rates[['nexus', 'reco', 'ener_roi', 'fid_roi', 'track_roi', 'ovl_roi', 'roi', 'topo_roi', 'topo_roi_full']].rename({'ener_roi':'ener', 'fid_roi':'fid', 'track_roi':'track', 'ovl_roi':'ovl', 'topo_roi':'topo', 'topo_roi_full':'topo + roi'}), 'x', markersize = 10, markeredgewidth=2, label = '2.4<E<2.5 MeV')\n",
    "    if not ref_sum_rates.empty:\n",
    "        plt.plot(ref_sum_rates[['nexus', 'reco', 'ener', 'fid', 'track', 'ovl', 'roi', 'topo', 'topo_roi_full']].rename({'topo_roi_full':'topo + roi'}), 'o', markersize =10, markeredgewidth=2,label = 'E > 0.8 MeV (refactor)')\n",
    "        plt.plot(ref_sum_rates[['nexus', 'reco', 'ener_roi', 'fid_roi', 'track_roi', 'ovl_roi', 'roi', 'topo_roi', 'topo_roi_full']].rename({'ener_roi':'ener', 'fid_roi':'fid', 'track_roi':'track', 'ovl_roi':'ovl', 'topo_roi':'topo', 'topo_roi_full':'topo + roi'}), 'o', markersize = 10, markeredgewidth=2, label = '2.4<E<2.5 MeV (refactor)')\n",
    "    plt.title(isotope)\n",
    "    plt.yscale('log')\n",
    "    plt.ylabel(ylabel)\n",
    "    plt.legend()\n",
    "    plt.grid(which='both')"
   ]
  },
  {
   "cell_type": "code",
   "execution_count": 17,
   "metadata": {},
   "outputs": [],
   "source": [
    "def plot_rates_both(sum_rates_iso1, sum_rates_iso2, iso1, iso2, ylabel):\n",
    "    plt.figure(figsize=(10, 7))\n",
    "    plt.plot(sum_rates_iso1[['nexus', 'reco', 'ener', 'fid', 'track', 'ovl', 'roi', 'topo_roi_full']].rename({'roi':'ROI', 'topo_roi_full':'topo'}), 'x', markersize = 10, markeredgewidth=2, label = iso1) #'E > 0.8 MeV')\n",
    "    plt.plot(sum_rates_iso2[['nexus', 'reco', 'ener', 'fid', 'track', 'ovl', 'roi', 'topo_roi_full']].rename({'roi':'ROI', 'topo_roi_full':'topo'}), 'x', markersize = 10, markeredgewidth=2, label = iso2) #'E > 0.8 MeV')\n",
    "    \n",
    "    #plt.plot(sum_rates_iso1[['nexus', 'reco', 'ener_roi', 'fid_roi', 'track_roi', 'ovl_roi', 'roi', 'topo_roi_full']].rename({'ener_roi':'ener', 'fid_roi':'fid', 'track_roi':'track', 'ovl_roi':'ovl', 'topo_roi':'topo', 'roi':'ROI', 'topo_roi_full':'topo'}), 'x', markersize = 10, markeredgewidth=2,label = iso1)#'2.4<E<2.5 MeV')\n",
    "    #plt.plot(sum_rates_iso2[['nexus', 'reco', 'ener_roi', 'fid_roi', 'track_roi', 'ovl_roi', 'roi', 'topo_roi_full']].rename({'ener_roi':'ener', 'fid_roi':'fid', 'track_roi':'track', 'ovl_roi':'ovl', 'topo_roi':'topo', 'roi':'ROI', 'topo_roi_full':'topo'}), 'x', markersize = 10, markeredgewidth=2,label = iso2)#'2.4<E<2.5 MeV')\n",
    "    plt.title('Background rates') #(2.4-2.5 MeV range)')\n",
    "    plt.yscale('log')\n",
    "    plt.ylabel(ylabel)\n",
    "    plt.legend()\n",
    "    plt.grid(which='both')"
   ]
  },
  {
   "cell_type": "code",
   "execution_count": 18,
   "metadata": {},
   "outputs": [],
   "source": [
    "def isa_ener_spectra(isotope):\n",
    "    vol_paths = glob(os.path.expandvars('$LUSTRE/NEXT100/data/full_prod/{}/prod/volumes/*/'.format(isotope)))\n",
    "    ener_df = pd.DataFrame([])\n",
    "    for p in vol_paths:\n",
    "        for isa in glob(p + 'prod/old_prod/isaura/isaura_*_{}.h5'.format(isotope)):\n",
    "            df = dio.load_dst(isa, 'Tracking', 'Tracks')\n",
    "            tot_e = df.groupby('event').sum().reset_index()[['event', 'energy']].rename(columns = {'energy':'tot_e'})\n",
    "            df = df.merge(tot_e, on = 'event')\n",
    "            df['vol'] = p.split('/')[-2]\n",
    "            ener_df = ener_df.append(df[['event', 'energy', 'tot_e', 'r_max', 'z_min', 'z_max', 'numb_of_tracks', 'ovlp_blob_energy', 'eblob2', 'vol']])\n",
    "    return ener_df\n",
    "    "
   ]
  },
  {
   "cell_type": "code",
   "execution_count": 19,
   "metadata": {},
   "outputs": [],
   "source": [
    "# ene_214Bi = isa_ener_spectra('214Bi')\n",
    "# ene_208Tl = isa_ener_spectra('208Tl')\n",
    "\n",
    "# bi_act_sim = read_act_and_sim('214Bi')\n",
    "# tl_act_sim = read_act_and_sim('208Tl')\n",
    "\n",
    "# bi_info = bi_act_sim.merge(ene_214Bi[(ene_214Bi.tot_e > 2.4) & (ene_214Bi.tot_e < 2.5)][['event','vol']].drop_duplicates().groupby('vol').count().reset_index(), on = 'vol')\n",
    "# tl_info = tl_act_sim.merge(ene_208Tl[(ene_208Tl.tot_e > 2.4) & (ene_208Tl.tot_e < 2.5)][['event','vol']].drop_duplicates().groupby('vol').count().reset_index(), on = 'vol')\n",
    "\n",
    "# bi_info['bi_counts_y'] = bi_info.event / bi_info.reduced_exp\n",
    "# tl_info['tl_counts_y'] = tl_info.event / tl_info.reduced_exp\n",
    "\n",
    "# counts_y = bi_info[['vol', 'bi_counts_y']].merge(tl_info[['vol', 'tl_counts_y']], on = 'vol', how = 'outer')"
   ]
  },
  {
   "cell_type": "code",
   "execution_count": 20,
   "metadata": {},
   "outputs": [],
   "source": [
    "# bi_hist = [{vol:(np.histogram(df.tot_e, range= (2.4, 2.5), bins = 100)[0] / bi_info[bi_info.vol == vol].reduced_exp.values, np.histogram(df.tot_e, range= (2.4, 2.5), bins = 100)[1])} for vol, df in ene_214Bi.groupby('vol')]\n",
    "# tl_hist = [{vol:(np.histogram(df.tot_e, range= (2.4, 2.5), bins = 100)[0] / tl_info[tl_info.vol == vol].reduced_exp.values, np.histogram(df.tot_e, range= (2.4, 2.5), bins = 100)[1])} for vol, df in ene_208Tl.groupby('vol')]"
   ]
  },
  {
   "cell_type": "code",
   "execution_count": 21,
   "metadata": {},
   "outputs": [],
   "source": [
    "# bi_values = sum(np.array([dct[key][0] for dct in bi_hist for key in dct]))\n",
    "# tl_values = sum(np.array([dct[key][0] for dct in tl_hist for key in dct]))\n",
    "\n",
    "# bins = [bi_hist[0][key][1] for key in bi_hist[0]][0]\n",
    "# bincentres = [(bins[i]+bins[i+1])/2. for i in range(len(bins)-1)]"
   ]
  },
  {
   "cell_type": "code",
   "execution_count": 22,
   "metadata": {},
   "outputs": [],
   "source": [
    "# plt.figure(figsize=(10, 7))\n",
    "# plt.step(bincentres,bi_values,where='mid',color='b', label = 'Bi')\n",
    "# plt.step(bincentres,tl_values,where='mid',color='r', label = 'Tl')\n",
    "# plt.legend()"
   ]
  },
  {
   "cell_type": "code",
   "execution_count": 23,
   "metadata": {},
   "outputs": [],
   "source": [
    "# counts_y.set_index('vol').plot.barh(figsize = (10, 7))\n",
    "# plt.xscale('log')\n",
    "# plt.grid(which = 'both')"
   ]
  },
  {
   "attachments": {},
   "cell_type": "markdown",
   "metadata": {},
   "source": [
    "La fraccion final de eventos/año respecto a los nexus/año es MUCHISIMO más pequeña que la de gonzalo, pero claro, los nexus/año de gonzalo eran muchos menos pq solo lanzó la simulación entre 2.4 y 2.5MeV, yo tengo todos los eventos que me guarda desde 0.8MeV en adelante. \n",
    "\n",
    "Lo justo sería comparar los eventos lanzados, ahí si que me debería dar más parecido (a pesar de los cambios en actividades etc)"
   ]
  },
  {
   "cell_type": "code",
   "execution_count": 24,
   "metadata": {},
   "outputs": [
    {
     "data": {
      "image/png": "[encoded data removed]",
      "text/plain": [
       "<Figure size 720x504 with 1 Axes>"
      ]
     },
     "metadata": {
      "needs_background": "light"
     },
     "output_type": "display_data"
    }
   ],
   "source": [
    "bi_sum_rates = compute_rates('214Bi', type='_spurious', act_version='_upd2')\n",
    "plot_rates(bi_sum_rates.sum(), pd.DataFrame(), '214Bi', 'counts/year')"
   ]
  },
  {
   "cell_type": "code",
   "execution_count": 25,
   "metadata": {},
   "outputs": [
    {
     "data": {
      "image/png": "[encoded data removed]",
      "text/plain": [
       "<Figure size 720x504 with 1 Axes>"
      ]
     },
     "metadata": {
      "needs_background": "light"
     },
     "output_type": "display_data"
    }
   ],
   "source": [
    "tl_sum_rates = compute_rates('208Tl', type='_spurious', act_version='_upd2')\n",
    "plot_rates(tl_sum_rates.sum(), pd.DataFrame(), '208Tl', 'counts/year')"
   ]
  },
  {
   "cell_type": "code",
   "execution_count": 26,
   "metadata": {},
   "outputs": [
    {
     "data": {
      "image/png": "[encoded data removed]",
      "text/plain": [
       "<Figure size 720x504 with 1 Axes>"
      ]
     },
     "metadata": {
      "needs_background": "light"
     },
     "output_type": "display_data"
    }
   ],
   "source": [
    "bi_sum_rates = compute_rates('214Bi', type='_spurious', act_version='_upd2')\n",
    "tl_sum_rates = compute_rates('208Tl', type='_spurious', act_version='_upd2')\n",
    "\n",
    "plot_rates_both(bi_sum_rates.sum(), tl_sum_rates.sum(), '214Bi', '208Tl', 'counts/year')"
   ]
  },
  {
   "cell_type": "code",
   "execution_count": 71,
   "metadata": {},
   "outputs": [
    {
     "data": {
      "image/png": "[encoded data removed]",
      "text/plain": [
       "<Figure size 720x504 with 1 Axes>"
      ]
     },
     "metadata": {
      "needs_background": "light"
     },
     "output_type": "display_data"
    }
   ],
   "source": [
    "# bi_sum_rates = compute_rates('214Bi', type='_spurious', act_version='_upd2')\n",
    "# tl_sum_rates = compute_rates('208Tl', type='_spurious', act_version='_upd2')\n",
    "\n",
    "# plot_rates_both(bi_sum_rates.sum(), tl_sum_rates.sum(), '214Bi', '208Tl', 'counts/year')"
   ]
  },
  {
   "cell_type": "code",
   "execution_count": 27,
   "metadata": {},
   "outputs": [],
   "source": [
    "bi_sum_rates['vol'] = read_act_and_sim('214Bi', act_version='_upd2').vol\n",
    "tl_sum_rates['vol'] = read_act_and_sim('208Tl', act_version='_upd2').vol\n",
    "\n",
    "plot_rates_df = bi_sum_rates[['vol', 'topo_roi_full']].set_index('vol').rename(columns = {'topo_roi_full':'214Bi'}).merge(\\\n",
    "    tl_sum_rates[['vol', 'topo_roi_full']].set_index('vol').rename(columns = {'topo_roi_full':'208Tl'}), on = 'vol')\n"
   ]
  },
  {
   "cell_type": "code",
   "execution_count": 28,
   "metadata": {},
   "outputs": [
    {
     "data": {
      "text/plain": [
       "214Bi    0.359635\n",
       "208Tl    0.208927\n",
       "dtype: float64"
      ]
     },
     "execution_count": 28,
     "metadata": {},
     "output_type": "execute_result"
    }
   ],
   "source": [
    "plot_rates_df.sum()"
   ]
  },
  {
   "cell_type": "code",
   "execution_count": 29,
   "metadata": {},
   "outputs": [
    {
     "data": {
      "text/plain": [
       "Text(0.5, 1.0, '')"
      ]
     },
     "execution_count": 29,
     "metadata": {},
     "output_type": "execute_result"
    },
    {
     "data": {
      "image/png": "[encoded data removed]",
      "text/plain": [
       "<Figure size 720x504 with 1 Axes>"
      ]
     },
     "metadata": {
      "needs_background": "light"
     },
     "output_type": "display_data"
    }
   ],
   "source": [
    "plot_rates_df.plot.barh(figsize=(10, 7))\n",
    "#tl_sum_rates[['vol', 'topo_roi_full']].set_index('vol').plot.barh(figsize=(10, 7))\n",
    "# bi_sum_rates.set_index('vol').topo_roi_full.plot.barh(figsize=(10, 7))\n",
    "# tl_sum_rates.set_index('vol').topo_roi_full.plot.barh(figsize=(10, 7))\n",
    "plt.gca().invert_yaxis()\n",
    "plt.xscale('log')\n",
    "plt.xlabel('counts/year')\n",
    "plt.ylabel('volume')\n",
    "plt.title('')"
   ]
  },
  {
   "cell_type": "code",
   "execution_count": 30,
   "metadata": {},
   "outputs": [
    {
     "name": "stdout",
     "output_type": "stream",
     "text": [
      "Total sim evs\n"
     ]
    },
    {
     "data": {
      "text/plain": [
       "16275995277"
      ]
     },
     "execution_count": 30,
     "metadata": {},
     "output_type": "execute_result"
    }
   ],
   "source": [
    "print('Total sim evs')\n",
    "read_act_and_sim('214Bi', act_version='_upd2').sim.sum() + read_act_and_sim('208Tl', act_version='_upd2').sim.sum()"
   ]
  },
  {
   "cell_type": "code",
   "execution_count": 31,
   "metadata": {},
   "outputs": [
    {
     "name": "stdout",
     "output_type": "stream",
     "text": [
      "Total sim 214Bi 14108993103\n",
      "Total sim 208Tl 2167002174\n"
     ]
    }
   ],
   "source": [
    "print('Total sim 214Bi', read_act_and_sim('214Bi', act_version='_upd2').sim.sum())\n",
    "print('Total sim 208Tl', read_act_and_sim('208Tl', act_version='_upd2').sim.sum())"
   ]
  },
  {
   "cell_type": "code",
   "execution_count": 32,
   "metadata": {},
   "outputs": [
    {
     "name": "stdout",
     "output_type": "stream",
     "text": [
      "Total saved\n"
     ]
    },
    {
     "data": {
      "text/plain": [
       "11314534"
      ]
     },
     "execution_count": 32,
     "metadata": {},
     "output_type": "execute_result"
    }
   ],
   "source": [
    "print('Total saved')\n",
    "compute_rates('214Bi', type='_spurious', act_version='_upd2', rates_year = False).nexus.sum() + compute_rates('208Tl', type='_spurious', act_version='_upd2', rates_year = False).nexus.sum()"
   ]
  },
  {
   "cell_type": "code",
   "execution_count": 33,
   "metadata": {},
   "outputs": [
    {
     "name": "stdout",
     "output_type": "stream",
     "text": [
      "Total saved 214Bi 5475916\n",
      "Total saved 208Tl 5838618\n"
     ]
    }
   ],
   "source": [
    "print('Total saved 214Bi', compute_rates('214Bi', type='_spurious', act_version='_upd2', rates_year = False).nexus.sum())\n",
    "print('Total saved 208Tl', compute_rates('208Tl', type='_spurious', act_version='_upd2', rates_year = False).nexus.sum())\n"
   ]
  },
  {
   "cell_type": "code",
   "execution_count": 34,
   "metadata": {},
   "outputs": [
    {
     "name": "stdout",
     "output_type": "stream",
     "text": [
      "Total ene 214Bi 4413486\n",
      "Total ene 208Tl 5131420\n"
     ]
    }
   ],
   "source": [
    "print('Total ene 214Bi', compute_rates('214Bi', type='_spurious', act_version='_upd2', rates_year = False).ener.sum())\n",
    "print('Total ene 208Tl', compute_rates('208Tl', type='_spurious', act_version='_upd2', rates_year = False).ener.sum())"
   ]
  },
  {
   "cell_type": "code",
   "execution_count": 35,
   "metadata": {},
   "outputs": [
    {
     "data": {
      "text/plain": [
       "Text(0.5, 1.0, '')"
      ]
     },
     "execution_count": 35,
     "metadata": {},
     "output_type": "execute_result"
    },
    {
     "data": {
      "image/png": "[encoded data removed]",
      "text/plain": [
       "<Figure size 720x504 with 1 Axes>"
      ]
     },
     "metadata": {
      "needs_background": "light"
     },
     "output_type": "display_data"
    }
   ],
   "source": [
    "bi_act = read_act_and_sim('214Bi', act_version='_upd2')[['vol', 'activities']]\n",
    "tl_act = read_act_and_sim('208Tl', act_version='_upd2')[['vol', 'activities']]\n",
    "\n",
    "act = bi_act.rename(columns={'activities':'214Bi'}).merge(tl_act.rename(columns={'activities':'208Tl'}), on = 'vol').set_index('vol')\n",
    "\n",
    "act.plot.barh(figsize=(10, 7))\n",
    "plt.gca().invert_yaxis()\n",
    "plt.xscale('log')\n",
    "plt.xlabel('Activities (mBq)')\n",
    "plt.ylabel('volume')\n",
    "plt.title('')"
   ]
  },
  {
   "cell_type": "code",
   "execution_count": 36,
   "metadata": {},
   "outputs": [
    {
     "data": {
      "text/plain": [
       "Text(0.5, 1.0, 'Efficiencies for E > 0.8 MeV')"
      ]
     },
     "execution_count": 36,
     "metadata": {},
     "output_type": "execute_result"
    },
    {
     "data": {
      "image/png": "[encoded data removed]",
      "text/plain": [
       "<Figure size 720x504 with 1 Axes>"
      ]
     },
     "metadata": {
      "needs_background": "light"
     },
     "output_type": "display_data"
    }
   ],
   "source": [
    "eff_counts = 'nexus'\n",
    "bi_rates = compute_rates('214Bi', type='_spurious', act_version='_upd2', rates_year = False).reset_index(drop = True)[['vol', eff_counts]]\n",
    "bi_sim   = read_act_and_sim('214Bi', act_version='_upd2')[['vol', 'sim']]\n",
    "bi_rates[eff_counts] = bi_rates[eff_counts] / bi_sim['sim']\n",
    "tl_rates = compute_rates('208Tl', type='_spurious', act_version='_upd2', rates_year = False).reset_index(drop = True)[['vol', eff_counts]]\n",
    "tl_sim   = read_act_and_sim('208Tl', act_version='_upd2')[['vol', 'sim']]\n",
    "tl_rates[eff_counts] = tl_rates[eff_counts] / tl_sim['sim']\n",
    "eff = bi_rates.rename(columns={eff_counts:'214Bi'}).merge(tl_rates.rename(columns={eff_counts:'208Tl'}), on = 'vol').set_index('vol')\n",
    "eff.plot.barh(figsize=(10, 7))\n",
    "plt.gca().invert_yaxis()\n",
    "plt.xscale('log')\n",
    "plt.xlabel('efficiencies')\n",
    "plt.ylabel('volume')\n",
    "plt.title('Efficiencies for E > 0.8 MeV')\n"
   ]
  },
  {
   "cell_type": "code",
   "execution_count": 37,
   "metadata": {},
   "outputs": [
    {
     "data": {
      "text/plain": [
       "Text(0.5, 1.0, 'Efficiencies for [2.4, 2.5] MeV')"
      ]
     },
     "execution_count": 37,
     "metadata": {},
     "output_type": "execute_result"
    },
    {
     "data": {
      "image/png": "[encoded data removed]",
      "text/plain": [
       "<Figure size 720x504 with 1 Axes>"
      ]
     },
     "metadata": {
      "needs_background": "light"
     },
     "output_type": "display_data"
    }
   ],
   "source": [
    "eff_counts = 'ener_roi'\n",
    "bi_rates = compute_rates('214Bi', type='_spurious', act_version='_upd2', rates_year = False).reset_index(drop = True)[['vol', eff_counts]]\n",
    "bi_sim   = read_act_and_sim('214Bi', act_version='_upd2')[['vol', 'sim']]\n",
    "bi_rates[eff_counts] = bi_rates[eff_counts] / bi_sim['sim']\n",
    "tl_rates = compute_rates('208Tl', type='_spurious', act_version='_upd2', rates_year = False).reset_index(drop = True)[['vol', eff_counts]]\n",
    "tl_sim   = read_act_and_sim('208Tl', act_version='_upd2')[['vol', 'sim']]\n",
    "tl_rates[eff_counts] = tl_rates[eff_counts] / tl_sim['sim']\n",
    "eff = bi_rates.rename(columns={eff_counts:'214Bi'}).merge(tl_rates.rename(columns={eff_counts:'208Tl'}), on = 'vol').set_index('vol')\n",
    "eff.plot.barh(figsize=(10, 7))\n",
    "plt.xscale('log')\n",
    "plt.xlabel('efficiencies')\n",
    "plt.ylabel('volume')\n",
    "plt.title('Efficiencies for [2.4, 2.5] MeV')"
   ]
  },
  {
   "cell_type": "code",
   "execution_count": 38,
   "metadata": {},
   "outputs": [],
   "source": [
    "# bi_info['bi_eff'] = bi_info.event / bi_info.sim_red\n",
    "# tl_info['tl_eff'] = tl_info.event / tl_info.sim_red\n",
    "\n",
    "# eff = bi_info[['vol', 'bi_eff']].merge(tl_info[['vol', 'tl_eff']], on = 'vol', how = 'outer')\n"
   ]
  },
  {
   "attachments": {},
   "cell_type": "markdown",
   "metadata": {},
   "source": [
    "Eficiencia inferior para mi: VESSEL, TP_COPPER_PLATE, SIPM_BOARD, SHIELDING_STRUCT(Tl), SIELDING_STEEL (Tl), SHIELDING_LEAD (Bi), PMT_BASE, PMT (Bi), PEDESTAL (Bi), LIGHT_TUBE, ICS, HDPE_TUBE*, GATE_RING*, FIELD_RING, EP_COPPER_PLATE, DB_PLUG *, CATHODE_RING (Bi), ANODE_RING (BI)\n",
    "\n",
    "\n",
    "Eficiencia superior para mi: SHIELDING_STRUCT(Bi), SHIELDING_STEEL (Bi), SHIELDING_LEAD(Tl), CATHODE_RING (Tl), ANODE_RING (Tl)\n",
    "\n",
    "\n",
    "APPROX IGUAL: SAPPHIRE_WINDOW, PMT (Tl), PEDESTAL (Tl), OPTICAL_PAD"
   ]
  },
  {
   "cell_type": "code",
   "execution_count": 39,
   "metadata": {},
   "outputs": [],
   "source": [
    "# eff.set_index('vol').plot.barh(figsize = (10, 7))\n",
    "# plt.xscale('log')\n",
    "# plt.grid(which = 'both')\n",
    "# plt.xlim([7e-9, 7e-2])"
   ]
  },
  {
   "cell_type": "code",
   "execution_count": 40,
   "metadata": {},
   "outputs": [],
   "source": [
    "# a = compute_rates('214Bi', type='', act_version='_upd2')\n",
    "# print('214Bi, regular:  ', a[0].topo_roi_full, a[1].topo_roi_full)\n",
    "# print('factor: :', 100/a[0].topo_roi_full)\n",
    "\n",
    "# a = compute_rates('214Bi', type='_spurious', act_version='_upd2')\n",
    "# print('214Bi, spurious: ', a[0].topo_roi_full, a[1].topo_roi_full)\n",
    "# print('factor: :', 100/a[0].topo_roi_full)\n",
    "\n",
    "# a = compute_rates('208Tl', type='', act_version='_upd2')\n",
    "# print('208Tl, regular:  ', a[0].topo_roi_full, a[1].topo_roi_full)\n",
    "# print('factor: :', 100/a[0].topo_roi_full)\n",
    "\n",
    "# a = compute_rates('208Tl', type='_spurious', act_version='_upd2')\n",
    "# print('208Tl, spurious: ', a[0].topo_roi_full, a[1].topo_roi_full)\n",
    "# print('factor: :', 100/a[0].topo_roi_full)\n"
   ]
  },
  {
   "attachments": {},
   "cell_type": "markdown",
   "metadata": {},
   "source": [
    "THIS DATA WAS DONE USING Z AND R AVERAGE\n",
    "\n",
    "- activities_efficiencies.ods: ACTIVITIES IN THE DB:\n",
    "* 214Bi: 0.9928914164307043, factor: 100.7159477312081\n",
    "* 208Tl: 1.4985395762944604, factor: 66.73163764368287\n",
    "\n",
    "- activities_efficiencies_upd.ods: ACTIVITIES I USED (given by Gonzalo, but they are not the ones he used):\n",
    "* 214Bi: 4.318686013168177, factor: 23.155191114864184\n",
    "* 208Tl: 1.740239507954858, factor: 57.4633546376158\n",
    "\n",
    "- activities_efficiencies_upd2.ods: NEW ACTIVITIES (november, updated):\n",
    "* 214Bi: 0.6914339729321523, factor: 144.62696933437\n",
    "* 208Tl: 0.0154786791884302, factor: 6460.499554428816\n",
    "\n",
    "\n",
    "The ones Gonzalo used (from his thesis' image) are very close to the latter, but for the ICS have different numbers (and maybe for others, I have to check)\n",
    "\n",
    "\n"
   ]
  },
  {
   "attachments": {},
   "cell_type": "markdown",
   "metadata": {},
   "source": []
  },
  {
   "attachments": {},
   "cell_type": "markdown",
   "metadata": {},
   "source": [
    "I RERUN THE ANALISYS WITH Z AND R MAX AND MIN, SO THE VALUES CHANGED. WITH THESE CHANGES, I ALSO CREATED A NEW FILE WITH SPURIOUS TRACKS REMOVED. IT RESULTED IN NOTHING AT THE END BECAUSE FINAL COUNTS REMAINED THE SAME (DIFFERENT TO THE PRIOR ANALYSIS WITH Z AND R AVERAGE...)"
   ]
  },
  {
   "attachments": {},
   "cell_type": "markdown",
   "metadata": {},
   "source": [
    "Veamos cuanto ocupa todo por un año. Como cogi una fracción ~10% para cada volumen (algo superior), su exposure tb se reduce a ese ~10% ya que exposure = n_evs_sim / act, y yo estoy cogiendo la fracción de esos eventos simulados. \n",
    "\n",
    "Como no tengo la misma fracción para cada volumen, la calculo más concretamente y la multiplico por la exposure para tener la exposure de ese % de eventos"
   ]
  },
  {
   "attachments": {},
   "cell_type": "markdown",
   "metadata": {},
   "source": [
    "Ahora tengo que ir por cada volumen dividiendo lo que pesa cada carpeta por la exposure reducida (SALVO NEXUS, QUE SERÍA LO QUE PESA POR LA FRACCIÓN PARTIDO POR LA EXPOS REDUCIDA O MÁS BIEN LO QUE PESA PARTIDO POR LA EXPOSURE NORMAL), y así tener lo que pesa la simulación en un año para cada ciudad, tipo de producción y volumen. Luego sumo por volúmenes y hago un gráfico"
   ]
  },
  {
   "cell_type": "code",
   "execution_count": 41,
   "metadata": {},
   "outputs": [],
   "source": [
    "def create_size_df(isotope):\n",
    "    storage_path = '/mnt/lustre/scratch/nlsas//home/usc/ie/mpm/NEXT100/data/full_prod/{}/prod/volumes/storage_info_2.txt'.format(isotope)\n",
    "\n",
    "    with open(storage_path, 'r') as f:\n",
    "        text = f.readlines()\n",
    "        f.close()\n",
    "\n",
    "    dct_list = []\n",
    "    for t in text:\n",
    "        sep = t.split('\\t')\n",
    "        mbs = int(sep[0].rstrip('M'))\n",
    "        sub_sep = sep[1].split('/')\n",
    "        if len(sub_sep) == 1:\n",
    "            continue\n",
    "        vol = sub_sep[1]\n",
    "        \n",
    "        if sub_sep[-2] != 'prod':\n",
    "            continue\n",
    "\n",
    "        if (sub_sep[-2] == 'prod') & (len(sub_sep) > 2):\n",
    "            #prod = sub_sep[2]\n",
    "            city = sub_sep[-1].split('\\n')[0]\n",
    "            # if prod.split('\\n')[0] == city:\n",
    "            #     prod = 'both'\n",
    "\n",
    "        # if (sub_sep[1] == 'nexus'):\n",
    "        #     city = sub_sep[1]\n",
    "        #     prod = 'both'\n",
    "        if np.isin(city, ['ref_prod', 'old_prod', '']):\n",
    "            continue\n",
    "        dct = {'vol':vol, 'city':city, 'mbs':mbs}\n",
    "        dct_list.append(dct)\n",
    "    return pd.DataFrame(dct_list)\n",
    "\n"
   ]
  },
  {
   "cell_type": "code",
   "execution_count": 42,
   "metadata": {},
   "outputs": [],
   "source": [
    "def order_cities_df(df):\n",
    "    order = ['nexus', 'detsim', 'hypathia', 'penthesilea', 'sophronia', 'esmeralda', 'beersheba', 'isaura']\n",
    "    df['order'] = df.city.apply(lambda x: order.index(x))\n",
    "    df = df.sort_values('order').drop('order', axis = 1)\n",
    "    return df"
   ]
  },
  {
   "cell_type": "code",
   "execution_count": 43,
   "metadata": {},
   "outputs": [],
   "source": [
    "def compute_sizes_df(isotope, sim_act, mbs_df):\n",
    "    #sim_act = compute_reduced_exposure(sim_act, isotope)\n",
    "    \n",
    "    mbs_df = mbs_df.merge(sim_act[['vol', 'exposure', 'reduced_exp']], on = 'vol')\n",
    "\n",
    "    mbs_df['mbs'] = mbs_df['mbs'].where(mbs_df.city != 'nexus', mbs_df['mbs'] / mbs_df['exposure'])\n",
    "    mbs_df['mbs'] = mbs_df['mbs'].where(mbs_df.city == 'nexus', mbs_df['mbs'] / mbs_df['reduced_exp'])\n",
    "\n",
    "    mbs_df = mbs_df.groupby(['city']).sum().drop(['exposure', 'reduced_exp'], axis = 1).reset_index()\n",
    "\n",
    "    mbs_df = order_cities_df(mbs_df)\n",
    "\n",
    "    # sizes_old = mbs_df[np.isin(mbs_df['prod'], ['both', 'old_prod'])].drop('prod', axis = 1).rename(columns = {'mbs':isotope})\n",
    "    # sizes_old.city = sizes_old.city.where(sizes_old.city != 'penthesilea', 'pen/sop')\n",
    "    # sizes_ref = mbs_df[np.isin(mbs_df['prod'], ['both', 'ref_prod'])].drop('prod', axis = 1).rename(columns = {'mbs':'{} (ref)'.format(isotope)})\n",
    "    # sizes_ref.city = sizes_ref.city.where(sizes_ref.city != 'sophronia', 'pen/sop')\n",
    "    # total_sizes = sizes_old.merge(sizes_ref, on = 'city')\n",
    "    mbs_df[mbs_df.select_dtypes(\"number\").columns] /= 1024\n",
    "    mbs_df = mbs_df.rename(columns={'mbs':isotope})\n",
    "    ### OUTPUT SIZES IN GB\n",
    "    return mbs_df"
   ]
  },
  {
   "cell_type": "code",
   "execution_count": 44,
   "metadata": {},
   "outputs": [],
   "source": [
    "isotopes = ['214Bi', '208Tl']\n",
    "\n",
    "df = []\n",
    "for isotope in isotopes:\n",
    "    sim_act = read_act_and_sim(isotope)\n",
    "    mbs_df = create_size_df(isotope)\n",
    "    total_sizes = compute_sizes_df(isotope, sim_act, mbs_df)\n",
    "    df.append(total_sizes)\n",
    "    "
   ]
  },
  {
   "cell_type": "code",
   "execution_count": 45,
   "metadata": {},
   "outputs": [],
   "source": [
    "bi_size = order_cities_df(create_size_df('214Bi').groupby('city').sum().reset_index())\n",
    "bi_size[bi_size.select_dtypes(\"number\").columns] /= 1024\n",
    "bi_size = bi_size.rename(columns={'mbs':'214Bi'})\n",
    "\n",
    "tl_size = order_cities_df(create_size_df('208Tl').groupby('city').sum().reset_index())\n",
    "tl_size[tl_size.select_dtypes(\"number\").columns] /= 1024\n",
    "tl_size = tl_size.rename(columns={'mbs':'208Tl'})\n",
    "\n",
    "\n",
    "total_sizes = bi_size.merge(tl_size, on = 'city')"
   ]
  },
  {
   "cell_type": "code",
   "execution_count": 46,
   "metadata": {},
   "outputs": [
    {
     "data": {
      "text/plain": [
       "Text(0.5, 0, 'G')"
      ]
     },
     "execution_count": 46,
     "metadata": {},
     "output_type": "execute_result"
    },
    {
     "data": {
      "image/png": "[encoded data removed]",
      "text/plain": [
       "<Figure size 720x504 with 1 Axes>"
      ]
     },
     "metadata": {
      "needs_background": "light"
     },
     "output_type": "display_data"
    }
   ],
   "source": [
    "total_sizes.set_index('city').plot.barh(figsize=(10, 7))\n",
    "plt.gca().invert_yaxis()\n",
    "plt.grid()\n",
    "plt.xlabel('G')"
   ]
  },
  {
   "cell_type": "code",
   "execution_count": 47,
   "metadata": {},
   "outputs": [
    {
     "data": {
      "text/plain": [
       "0.6728601455688477"
      ]
     },
     "execution_count": 47,
     "metadata": {},
     "output_type": "execute_result"
    }
   ],
   "source": [
    "create_size_df('214Bi').mbs.sum() / 1024 / 1024"
   ]
  },
  {
   "cell_type": "code",
   "execution_count": 48,
   "metadata": {},
   "outputs": [
    {
     "data": {
      "text/plain": [
       "0.8928461074829102"
      ]
     },
     "execution_count": 48,
     "metadata": {},
     "output_type": "execute_result"
    }
   ],
   "source": [
    "create_size_df('208Tl').mbs.sum() / 1024 / 1024"
   ]
  },
  {
   "cell_type": "code",
   "execution_count": 49,
   "metadata": {},
   "outputs": [
    {
     "data": {
      "text/plain": [
       "1.5657062530517578"
      ]
     },
     "execution_count": 49,
     "metadata": {},
     "output_type": "execute_result"
    }
   ],
   "source": [
    "0.6728601455688477 + 0.8928461074829102"
   ]
  },
  {
   "cell_type": "code",
   "execution_count": 50,
   "metadata": {},
   "outputs": [],
   "source": [
    "final_total_sizes = df[0].merge(df[1], on = 'city')"
   ]
  },
  {
   "cell_type": "code",
   "execution_count": 51,
   "metadata": {},
   "outputs": [
    {
     "data": {
      "text/html": [
       "<div>\n",
       "<style scoped>\n",
       "    .dataframe tbody tr th:only-of-type {\n",
       "        vertical-align: middle;\n",
       "    }\n",
       "\n",
       "    .dataframe tbody tr th {\n",
       "        vertical-align: top;\n",
       "    }\n",
       "\n",
       "    .dataframe thead th {\n",
       "        text-align: right;\n",
       "    }\n",
       "</style>\n",
       "<table border=\"1\" class=\"dataframe\">\n",
       "  <thead>\n",
       "    <tr style=\"text-align: right;\">\n",
       "      <th></th>\n",
       "      <th>city</th>\n",
       "      <th>214Bi</th>\n",
       "      <th>208Tl</th>\n",
       "    </tr>\n",
       "  </thead>\n",
       "  <tbody>\n",
       "    <tr>\n",
       "      <th>0</th>\n",
       "      <td>nexus</td>\n",
       "      <td>0.728209</td>\n",
       "      <td>2.136596</td>\n",
       "    </tr>\n",
       "    <tr>\n",
       "      <th>1</th>\n",
       "      <td>hypathia</td>\n",
       "      <td>3.650859</td>\n",
       "      <td>12.203572</td>\n",
       "    </tr>\n",
       "    <tr>\n",
       "      <th>2</th>\n",
       "      <td>sophronia</td>\n",
       "      <td>2.137489</td>\n",
       "      <td>6.371392</td>\n",
       "    </tr>\n",
       "    <tr>\n",
       "      <th>3</th>\n",
       "      <td>beersheba</td>\n",
       "      <td>8.771292</td>\n",
       "      <td>22.509649</td>\n",
       "    </tr>\n",
       "    <tr>\n",
       "      <th>4</th>\n",
       "      <td>isaura</td>\n",
       "      <td>0.831734</td>\n",
       "      <td>2.444367</td>\n",
       "    </tr>\n",
       "  </tbody>\n",
       "</table>\n",
       "</div>"
      ],
      "text/plain": [
       "        city     214Bi      208Tl\n",
       "0      nexus  0.728209   2.136596\n",
       "1   hypathia  3.650859  12.203572\n",
       "2  sophronia  2.137489   6.371392\n",
       "3  beersheba  8.771292  22.509649\n",
       "4     isaura  0.831734   2.444367"
      ]
     },
     "execution_count": 51,
     "metadata": {},
     "output_type": "execute_result"
    }
   ],
   "source": [
    "final_total_sizes"
   ]
  },
  {
   "cell_type": "code",
   "execution_count": 52,
   "metadata": {},
   "outputs": [
    {
     "data": {
      "text/plain": [
       "214Bi    0.015742\n",
       "208Tl    0.044595\n",
       "dtype: float64"
      ]
     },
     "execution_count": 52,
     "metadata": {},
     "output_type": "execute_result"
    }
   ],
   "source": [
    "final_total_sizes.drop('city', axis = 1).sum() /1024"
   ]
  },
  {
   "attachments": {},
   "cell_type": "markdown",
   "metadata": {},
   "source": [
    "A ver, hay volumenes q con muy poca exposure dan muchisimos eventos, y volumenes q con mucha exposure dan pocos eventos. Por ejemplo para el Bi, tenemos que en ICS, Field ring y copper plate muy poca exposicion dan muchos eventos y aumentarla hace q se desorbiten los tamaños de ficheros etc\n",
    "\n",
    "MIRAR q almacenamiento nos haría falta para cada isotopo con el factor que queremos y eso"
   ]
  },
  {
   "cell_type": "code",
   "execution_count": 53,
   "metadata": {},
   "outputs": [
    {
     "data": {
      "text/plain": [
       "0.04459528879659216"
      ]
     },
     "execution_count": 53,
     "metadata": {},
     "output_type": "execute_result"
    }
   ],
   "source": [
    "final_total_sizes['208Tl'].sum() / 1024 #* tl_factor /1024"
   ]
  },
  {
   "cell_type": "code",
   "execution_count": 54,
   "metadata": {},
   "outputs": [
    {
     "data": {
      "text/plain": [
       "0.015741780406322178"
      ]
     },
     "execution_count": 54,
     "metadata": {},
     "output_type": "execute_result"
    }
   ],
   "source": [
    "final_total_sizes['214Bi'].sum() / 1024"
   ]
  },
  {
   "cell_type": "code",
   "execution_count": 55,
   "metadata": {},
   "outputs": [
    {
     "data": {
      "text/plain": [
       "Text(0.5, 0, 'G/year')"
      ]
     },
     "execution_count": 55,
     "metadata": {},
     "output_type": "execute_result"
    },
    {
     "data": {
      "image/png": "[encoded data removed]",
      "text/plain": [
       "<Figure size 720x504 with 1 Axes>"
      ]
     },
     "metadata": {
      "needs_background": "light"
     },
     "output_type": "display_data"
    }
   ],
   "source": [
    "final_total_sizes.set_index('city').plot.barh(figsize=(10, 7))\n",
    "plt.gca().invert_yaxis()\n",
    "plt.grid()\n",
    "plt.xlabel('G/year')"
   ]
  },
  {
   "cell_type": "code",
   "execution_count": 52,
   "metadata": {},
   "outputs": [],
   "source": [
    "idx = ['nexus', 'detsim', 'hypathia', 'pen/sop', 'esmeralda', 'beersheba', 'isaura']\n",
    "tl_old = [90, 74, 25, 12, 18, 37, 5]\n",
    "tl_ref = [90, 74, 25, 13, 6.5, 37, 5]\n",
    "\n",
    "bi_old = [47, 58, 15, 7.7, 13, 31, 3.5]\n",
    "bi_ref = [47, 58, 15, 8.8, 4.5, 30, 3.5]\n",
    "\n",
    "diskspace = pd.DataFrame(np.array([tl_old, tl_ref, bi_old, bi_ref]).T, index = idx).rename(columns = {0:'208Tl', 1:'208Tl (ref)', 2:'214Bi', 3:'214Bi (ref)'})"
   ]
  },
  {
   "cell_type": "code",
   "execution_count": null,
   "metadata": {},
   "outputs": [
    {
     "data": {
      "text/plain": [
       "Text(0.5, 0, 'GB')"
      ]
     },
     "execution_count": 77,
     "metadata": {},
     "output_type": "execute_result"
    },
    {
     "data": {
      "image/png": "[encoded data removed]",
      "text/plain": [
       "<Figure size 720x504 with 1 Axes>"
      ]
     },
     "metadata": {
      "needs_background": "light"
     },
     "output_type": "display_data"
    }
   ],
   "source": [
    "diskspace.plot.barh(figsize=(10, 7))\n",
    "\n",
    "plt.gca().invert_yaxis()\n",
    "plt.xlabel('GB')"
   ]
  },
  {
   "cell_type": "code",
   "execution_count": 74,
   "metadata": {},
   "outputs": [],
   "source": [
    "def get_ener_spectra(isotope, nbins, xrange, density = False, type = ''):\n",
    "    ener_paths = glob('/mnt/lustre/scratch/nlsas/home/usc/ie/mpm/NEXT100/data/full_prod/{}/prod/volumes/*/events_energy{}.h5'.format(isotope, type))\n",
    "    ener_df = pd.DataFrame([])\n",
    "    hist = []\n",
    "    if type == '': ev_id, group = 'event_id', 'MC'\n",
    "    else: ev_id, group = 'event', 'RECO'\n",
    "    \n",
    "    for p in ener_paths:\n",
    "        eners = dio.load_dst(p, group, 'EventEnergy')\n",
    "        eners = eners[(eners.energy > 0.8)] \n",
    "        ener_df = ener_df.append(eners)\n",
    "        hist.append(np.histogram(eners.energy,bins = nbins, range=xrange, density=density)[0])\n",
    "    return ener_df, hist"
   ]
  },
  {
   "cell_type": "code",
   "execution_count": 144,
   "metadata": {},
   "outputs": [
    {
     "data": {
      "text/plain": [
       "<matplotlib.legend.Legend at 0x14f896f61110>"
      ]
     },
     "execution_count": 144,
     "metadata": {},
     "output_type": "execute_result"
    },
    {
     "data": {
      "image/png": "[encoded data removed]",
      "text/plain": [
       "<Figure size 864x504 with 1 Axes>"
      ]
     },
     "metadata": {
      "needs_background": "light"
     },
     "output_type": "display_data"
    }
   ],
   "source": [
    "nbins = 300\n",
    "xrange = (0.8, 4.55)\n",
    "\n",
    "edges = np.linspace(xrange[0], xrange[1], nbins + 1)\n",
    "bincentres = [(edges[i]+edges[i+1])/2. for i in range(len(edges)-1)]\n",
    "\n",
    "ener_bi, hist_bi = get_ener_spectra('214Bi', nbins, xrange, density = True, type = '_reco')\n",
    "ener_tl, hist_tl = get_ener_spectra('208Tl', nbins, xrange, density = True, type = '_reco')\n",
    "\n",
    "plt.figure(figsize=(12, 7))\n",
    "plt.step(bincentres, sum(hist_bi) / len(hist_bi), where = 'mid', label = '214Bi')\n",
    "plt.step(bincentres, sum(hist_tl) / len(hist_tl), where = 'mid', label = '208Tl')\n",
    "\n",
    "\n",
    "plt.yscale('log')\n",
    "plt.xlabel('Energy (MeV)')\n",
    "plt.ylabel(r'pdf (MeV$^{-1}$)')\n",
    "plt.title('Reco energy')\n",
    "plt.xlim(xrange)\n",
    "plt.legend()"
   ]
  },
  {
   "cell_type": "code",
   "execution_count": 143,
   "metadata": {},
   "outputs": [
    {
     "data": {
      "text/plain": [
       "<matplotlib.legend.Legend at 0x14f898f59bd0>"
      ]
     },
     "execution_count": 143,
     "metadata": {},
     "output_type": "execute_result"
    },
    {
     "data": {
      "image/png": "[encoded data removed]",
      "text/plain": [
       "<Figure size 864x504 with 1 Axes>"
      ]
     },
     "metadata": {
      "needs_background": "light"
     },
     "output_type": "display_data"
    }
   ],
   "source": [
    "nbins = 300\n",
    "xrange = (0.8, 4.55)\n",
    "\n",
    "edges = np.linspace(xrange[0], xrange[1], nbins + 1)\n",
    "bincentres = [(edges[i]+edges[i+1])/2. for i in range(len(edges)-1)]\n",
    "\n",
    "\n",
    "ener_bi, hist_bi = get_ener_spectra('214Bi', nbins, xrange, density = True)\n",
    "ener_tl, hist_tl = get_ener_spectra('208Tl', nbins, xrange, density = True)\n",
    "\n",
    "\n",
    "plt.figure(figsize=(12, 7))\n",
    "plt.step(bincentres, sum(hist_bi) / len(hist_bi), where = 'mid', label = '214Bi')\n",
    "plt.step(bincentres, sum(hist_tl) / len(hist_tl), where = 'mid', label = '208Tl')\n",
    "\n",
    "\n",
    "plt.yscale('log')\n",
    "plt.xlabel('Energy (MeV)')\n",
    "plt.ylabel(r'pdf (MeV$^{-1}$)')\n",
    "plt.title('MC energy')\n",
    "plt.xlim(xrange)\n",
    "plt.legend()"
   ]
  },
  {
   "cell_type": "code",
   "execution_count": null,
   "metadata": {},
   "outputs": [],
   "source": []
  }
 ],
 "metadata": {
  "kernelspec": {
   "display_name": "Python 3 (ipykernel)",
   "language": "python",
   "name": "python3"
  },
  "orig_nbformat": 4
 },
 "nbformat": 4,
 "nbformat_minor": 2
}
